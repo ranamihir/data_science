{
 "cells": [
  {
   "cell_type": "code",
   "execution_count": 1,
   "metadata": {
    "collapsed": true
   },
   "outputs": [],
   "source": [
    "# Initial imports\n",
    "\n",
    "import numpy as np\n",
    "import pandas as pd\n",
    "from pandas import DataFrame\n",
    "import matplotlib.pyplot as plt\n",
    "import seaborn as sns\n",
    "\n",
    "%matplotlib inline"
   ]
  },
  {
   "cell_type": "code",
   "execution_count": 2,
   "metadata": {
    "collapsed": false
   },
   "outputs": [
    {
     "name": "stderr",
     "output_type": "stream",
     "text": [
      "/usr/local/lib/python2.7/dist-packages/matplotlib-2.0.0b1-py2.7-linux-x86_64.egg/matplotlib/__init__.py:895: UserWarning: axes.color_cycle is deprecated and replaced with axes.prop_cycle; please use the latter.\n",
      "  warnings.warn(self.msg_depr % (key, alt_key))\n"
     ]
    }
   ],
   "source": [
    "# Imports for better visualization\n",
    "\n",
    "from collections import defaultdict\n",
    "import json\n",
    "\n",
    "import scipy as sp\n",
    "\n",
    "from matplotlib import rcParams\n",
    "import matplotlib.cm as cm\n",
    "import matplotlib as mpl\n",
    "\n",
    "#colorbrewer2 Dark2 qualitative color table\n",
    "dark2_colors = [(0.10588235294117647, 0.6196078431372549, 0.4666666666666667),\n",
    "                (0.8509803921568627, 0.37254901960784315, 0.00784313725490196),\n",
    "                (0.4588235294117647, 0.4392156862745098, 0.7019607843137254),\n",
    "                (0.9058823529411765, 0.1607843137254902, 0.5411764705882353),\n",
    "                (0.4, 0.6509803921568628, 0.11764705882352941),\n",
    "                (0.9019607843137255, 0.6705882352941176, 0.00784313725490196),\n",
    "                (0.6509803921568628, 0.4627450980392157, 0.11372549019607843)]\n",
    "\n",
    "rcParams['figure.figsize'] = (10, 6)\n",
    "rcParams['figure.dpi'] = 150\n",
    "rcParams['axes.color_cycle'] = dark2_colors\n",
    "rcParams['lines.linewidth'] = 2\n",
    "rcParams['axes.facecolor'] = 'white'\n",
    "rcParams['font.size'] = 14\n",
    "rcParams['patch.edgecolor'] = 'white'\n",
    "rcParams['patch.facecolor'] = dark2_colors[0]\n",
    "rcParams['font.family'] = 'StixGeneral'"
   ]
  },
  {
   "cell_type": "code",
   "execution_count": 3,
   "metadata": {
    "collapsed": false
   },
   "outputs": [],
   "source": [
    "# Load training data\n",
    "train_data = pd.read_csv('Data/train.csv')"
   ]
  },
  {
   "cell_type": "code",
   "execution_count": 4,
   "metadata": {
    "collapsed": false
   },
   "outputs": [
    {
     "data": {
      "text/html": [
       "<div>\n",
       "<table border=\"1\" class=\"dataframe\">\n",
       "  <thead>\n",
       "    <tr style=\"text-align: right;\">\n",
       "      <th></th>\n",
       "      <th>ID</th>\n",
       "      <th>Gender</th>\n",
       "      <th>Gender-B</th>\n",
       "      <th>Percent_SSC</th>\n",
       "      <th>Board_SSC</th>\n",
       "      <th>Board_CBSE</th>\n",
       "      <th>Board_ICSE</th>\n",
       "      <th>Percent_HSC</th>\n",
       "      <th>Board_HSC</th>\n",
       "      <th>Stream_HSC</th>\n",
       "      <th>...</th>\n",
       "      <th>S-TEST</th>\n",
       "      <th>Percentile_ET</th>\n",
       "      <th>Percent_MBA</th>\n",
       "      <th>S-TEST_SCORE</th>\n",
       "      <th>Specialization_MBA</th>\n",
       "      <th>Marks_Communication</th>\n",
       "      <th>Marks_Projectwork</th>\n",
       "      <th>Marks_BOCA</th>\n",
       "      <th>Placement</th>\n",
       "      <th>Salary</th>\n",
       "    </tr>\n",
       "  </thead>\n",
       "  <tbody>\n",
       "    <tr>\n",
       "      <th>0</th>\n",
       "      <td>1</td>\n",
       "      <td>M</td>\n",
       "      <td>0</td>\n",
       "      <td>68.40</td>\n",
       "      <td>ICSE</td>\n",
       "      <td>0</td>\n",
       "      <td>1</td>\n",
       "      <td>85.6</td>\n",
       "      <td>ISC</td>\n",
       "      <td>Commerce</td>\n",
       "      <td>...</td>\n",
       "      <td>1</td>\n",
       "      <td>70.00</td>\n",
       "      <td>63.26</td>\n",
       "      <td>70.00</td>\n",
       "      <td>Marketing &amp; Finance</td>\n",
       "      <td>75</td>\n",
       "      <td>72</td>\n",
       "      <td>57</td>\n",
       "      <td>1</td>\n",
       "      <td>280000</td>\n",
       "    </tr>\n",
       "    <tr>\n",
       "      <th>1</th>\n",
       "      <td>2</td>\n",
       "      <td>M</td>\n",
       "      <td>0</td>\n",
       "      <td>59.00</td>\n",
       "      <td>CBSE</td>\n",
       "      <td>1</td>\n",
       "      <td>0</td>\n",
       "      <td>62.0</td>\n",
       "      <td>CBSE</td>\n",
       "      <td>Commerce</td>\n",
       "      <td>...</td>\n",
       "      <td>1</td>\n",
       "      <td>79.00</td>\n",
       "      <td>56.51</td>\n",
       "      <td>79.00</td>\n",
       "      <td>Marketing &amp; Finance</td>\n",
       "      <td>58</td>\n",
       "      <td>61</td>\n",
       "      <td>50</td>\n",
       "      <td>1</td>\n",
       "      <td>400000</td>\n",
       "    </tr>\n",
       "    <tr>\n",
       "      <th>2</th>\n",
       "      <td>4</td>\n",
       "      <td>M</td>\n",
       "      <td>0</td>\n",
       "      <td>65.92</td>\n",
       "      <td>Others</td>\n",
       "      <td>0</td>\n",
       "      <td>0</td>\n",
       "      <td>86.0</td>\n",
       "      <td>Others</td>\n",
       "      <td>Commerce</td>\n",
       "      <td>...</td>\n",
       "      <td>1</td>\n",
       "      <td>66.00</td>\n",
       "      <td>66.22</td>\n",
       "      <td>66.00</td>\n",
       "      <td>Marketing &amp; Finance</td>\n",
       "      <td>80</td>\n",
       "      <td>63</td>\n",
       "      <td>55</td>\n",
       "      <td>1</td>\n",
       "      <td>350000</td>\n",
       "    </tr>\n",
       "    <tr>\n",
       "      <th>3</th>\n",
       "      <td>5</td>\n",
       "      <td>F</td>\n",
       "      <td>1</td>\n",
       "      <td>56.00</td>\n",
       "      <td>ICSE</td>\n",
       "      <td>0</td>\n",
       "      <td>1</td>\n",
       "      <td>78.0</td>\n",
       "      <td>ISC</td>\n",
       "      <td>Commerce</td>\n",
       "      <td>...</td>\n",
       "      <td>1</td>\n",
       "      <td>50.89</td>\n",
       "      <td>62.21</td>\n",
       "      <td>50.89</td>\n",
       "      <td>Marketing &amp; HR</td>\n",
       "      <td>57</td>\n",
       "      <td>70</td>\n",
       "      <td>60</td>\n",
       "      <td>1</td>\n",
       "      <td>278000</td>\n",
       "    </tr>\n",
       "    <tr>\n",
       "      <th>4</th>\n",
       "      <td>8</td>\n",
       "      <td>M</td>\n",
       "      <td>0</td>\n",
       "      <td>62.60</td>\n",
       "      <td>Others</td>\n",
       "      <td>0</td>\n",
       "      <td>0</td>\n",
       "      <td>50.6</td>\n",
       "      <td>Others</td>\n",
       "      <td>Commerce</td>\n",
       "      <td>...</td>\n",
       "      <td>1</td>\n",
       "      <td>34.53</td>\n",
       "      <td>58.63</td>\n",
       "      <td>34.53</td>\n",
       "      <td>Marketing &amp; HR</td>\n",
       "      <td>62</td>\n",
       "      <td>57</td>\n",
       "      <td>56</td>\n",
       "      <td>1</td>\n",
       "      <td>162000</td>\n",
       "    </tr>\n",
       "  </tbody>\n",
       "</table>\n",
       "<p>5 rows × 25 columns</p>\n",
       "</div>"
      ],
      "text/plain": [
       "   ID Gender  Gender-B  Percent_SSC Board_SSC  Board_CBSE  Board_ICSE  \\\n",
       "0   1      M         0        68.40      ICSE           0           1   \n",
       "1   2      M         0        59.00      CBSE           1           0   \n",
       "2   4      M         0        65.92    Others           0           0   \n",
       "3   5      F         1        56.00      ICSE           0           1   \n",
       "4   8      M         0        62.60    Others           0           0   \n",
       "\n",
       "   Percent_HSC Board_HSC Stream_HSC   ...    S-TEST Percentile_ET  \\\n",
       "0         85.6       ISC   Commerce   ...         1         70.00   \n",
       "1         62.0      CBSE   Commerce   ...         1         79.00   \n",
       "2         86.0    Others   Commerce   ...         1         66.00   \n",
       "3         78.0       ISC   Commerce   ...         1         50.89   \n",
       "4         50.6    Others   Commerce   ...         1         34.53   \n",
       "\n",
       "   Percent_MBA  S-TEST_SCORE   Specialization_MBA  Marks_Communication  \\\n",
       "0        63.26         70.00  Marketing & Finance                   75   \n",
       "1        56.51         79.00  Marketing & Finance                   58   \n",
       "2        66.22         66.00  Marketing & Finance                   80   \n",
       "3        62.21         50.89       Marketing & HR                   57   \n",
       "4        58.63         34.53       Marketing & HR                   62   \n",
       "\n",
       "   Marks_Projectwork  Marks_BOCA  Placement  Salary  \n",
       "0                 72          57          1  280000  \n",
       "1                 61          50          1  400000  \n",
       "2                 63          55          1  350000  \n",
       "3                 70          60          1  278000  \n",
       "4                 57          56          1  162000  \n",
       "\n",
       "[5 rows x 25 columns]"
      ]
     },
     "execution_count": 4,
     "metadata": {},
     "output_type": "execute_result"
    }
   ],
   "source": [
    "# Brief overview of training data\n",
    "train_data.head()"
   ]
  },
  {
   "cell_type": "code",
   "execution_count": 5,
   "metadata": {
    "collapsed": false
   },
   "outputs": [
    {
     "data": {
      "text/plain": [
       "ID                     False\n",
       "Gender                 False\n",
       "Gender-B               False\n",
       "Percent_SSC            False\n",
       "Board_SSC              False\n",
       "Board_CBSE             False\n",
       "Board_ICSE             False\n",
       "Percent_HSC            False\n",
       "Board_HSC              False\n",
       "Stream_HSC             False\n",
       "Percent_Degree         False\n",
       "Course_Degree          False\n",
       "Degree_Engg            False\n",
       "Experience_Yrs         False\n",
       "Entrance_Test           True\n",
       "S-TEST                 False\n",
       "Percentile_ET          False\n",
       "Percent_MBA            False\n",
       "S-TEST_SCORE           False\n",
       "Specialization_MBA     False\n",
       "Marks_Communication    False\n",
       "Marks_Projectwork      False\n",
       "Marks_BOCA             False\n",
       "Placement              False\n",
       "Salary                 False\n",
       "dtype: bool"
      ]
     },
     "execution_count": 5,
     "metadata": {},
     "output_type": "execute_result"
    }
   ],
   "source": [
    "# Check for missing values\n",
    "train_data.isnull().any()"
   ]
  },
  {
   "cell_type": "code",
   "execution_count": 6,
   "metadata": {
    "collapsed": false
   },
   "outputs": [
    {
     "data": {
      "text/plain": [
       "(array([ 167.,    0.,    0.,    0.,    0.,    0.,    0.,    0.,    0.,   68.]),\n",
       " array([ 0. ,  0.1,  0.2,  0.3,  0.4,  0.5,  0.6,  0.7,  0.8,  0.9,  1. ]),\n",
       " <a list of 10 Patch objects>)"
      ]
     },
     "execution_count": 6,
     "metadata": {},
     "output_type": "execute_result"
    },
    {
     "data": {
      "image/png": "[encoded data removed]",
      "text/plain": [
       "<matplotlib.figure.Figure at 0x7f95eaf6a3d0>"
      ]
     },
     "metadata": {},
     "output_type": "display_data"
    }
   ],
   "source": [
    "# Plot histogram of Gender\n",
    "plt.hist(train_data['Gender-B'])"
   ]
  },
  {
   "cell_type": "code",
   "execution_count": 7,
   "metadata": {
    "collapsed": false
   },
   "outputs": [
    {
     "data": {
      "text/plain": [
       "(array([  4.,   8.,  14.,  34.,  40.,  31.,  34.,  30.,  24.,  16.]),\n",
       " array([ 37.  ,  41.88,  46.76,  51.64,  56.52,  61.4 ,  66.28,  71.16,\n",
       "         76.04,  80.92,  85.8 ]),\n",
       " <a list of 10 Patch objects>)"
      ]
     },
     "execution_count": 7,
     "metadata": {},
     "output_type": "execute_result"
    },
    {
     "data": {
      "image/png": "[encoded data removed]",
      "text/plain": [
       "<matplotlib.figure.Figure at 0x7f95dad5ebd0>"
      ]
     },
     "metadata": {},
     "output_type": "display_data"
    }
   ],
   "source": [
    "# Plot histogram of Percent_SSC\n",
    "plt.hist(train_data['Percent_SSC'])"
   ]
  },
  {
   "cell_type": "code",
   "execution_count": 8,
   "metadata": {
    "collapsed": false
   },
   "outputs": [
    {
     "data": {
      "text/plain": [
       "(array([ 10.,  34.,  39.,  39.,  31.,  30.,  31.,  10.,  10.,   1.]),\n",
       " array([ 42.  ,  47.27,  52.54,  57.81,  63.08,  68.35,  73.62,  78.89,\n",
       "         84.16,  89.43,  94.7 ]),\n",
       " <a list of 10 Patch objects>)"
      ]
     },
     "execution_count": 8,
     "metadata": {},
     "output_type": "execute_result"
    },
    {
     "data": {
      "image/png": "[encoded data removed]",
      "text/plain": [
       "<matplotlib.figure.Figure at 0x7f9619640f50>"
      ]
     },
     "metadata": {},
     "output_type": "display_data"
    }
   ],
   "source": [
    "# Plot histogram of Percent_HSC\n",
    "plt.hist(train_data['Percent_HSC'])"
   ]
  },
  {
   "cell_type": "code",
   "execution_count": 9,
   "metadata": {
    "collapsed": false
   },
   "outputs": [
    {
     "data": {
      "text/plain": [
       "(array([  4.,   1.,  23.,  24.,  60.,  52.,  37.,  21.,   8.,   5.]),\n",
       " array([ 35.  ,  40.38,  45.76,  51.14,  56.52,  61.9 ,  67.28,  72.66,\n",
       "         78.04,  83.42,  88.8 ]),\n",
       " <a list of 10 Patch objects>)"
      ]
     },
     "execution_count": 9,
     "metadata": {},
     "output_type": "execute_result"
    },
    {
     "data": {
      "image/png": "[encoded data removed]",
      "text/plain": [
       "<matplotlib.figure.Figure at 0x7f95d86bbd50>"
      ]
     },
     "metadata": {},
     "output_type": "display_data"
    }
   ],
   "source": [
    "# Plot histogram of Percent_Degree\n",
    "plt.hist(train_data['Percent_Degree'])"
   ]
  },
  {
   "cell_type": "code",
   "execution_count": 10,
   "metadata": {
    "collapsed": false
   },
   "outputs": [
    {
     "data": {
      "text/plain": [
       "(array([ 25.,  26.,  41.,  38.,  36.,  32.,  18.,  11.,   4.,   4.]),\n",
       " array([ 50.83 ,  53.536,  56.242,  58.948,  61.654,  64.36 ,  67.066,\n",
       "         69.772,  72.478,  75.184,  77.89 ]),\n",
       " <a list of 10 Patch objects>)"
      ]
     },
     "execution_count": 10,
     "metadata": {},
     "output_type": "execute_result"
    },
    {
     "data": {
      "image/png": "[encoded data removed]",
      "text/plain": [
       "<matplotlib.figure.Figure at 0x7f95daa70e90>"
      ]
     },
     "metadata": {},
     "output_type": "display_data"
    }
   ],
   "source": [
    "# Plot histogram of Percent_MBA\n",
    "plt.hist(train_data['Percent_MBA'])"
   ]
  },
  {
   "cell_type": "code",
   "execution_count": 11,
   "metadata": {
    "collapsed": false
   },
   "outputs": [
    {
     "data": {
      "text/plain": [
       "Others    127\n",
       "CBSE       66\n",
       "ICSE       42\n",
       "Name: Board_SSC, dtype: int64"
      ]
     },
     "execution_count": 11,
     "metadata": {},
     "output_type": "execute_result"
    }
   ],
   "source": [
    "# See the different categories in Board_SSC and their frequencies\n",
    "train_data['Board_SSC'].value_counts()"
   ]
  },
  {
   "cell_type": "code",
   "execution_count": 12,
   "metadata": {
    "collapsed": false
   },
   "outputs": [
    {
     "data": {
      "text/plain": [
       "47"
      ]
     },
     "execution_count": 12,
     "metadata": {},
     "output_type": "execute_result"
    }
   ],
   "source": [
    "# Check how many people did not give the Entrance Test\n",
    "len(train_data[train_data['Percentile_ET'] == 0])"
   ]
  },
  {
   "cell_type": "code",
   "execution_count": 13,
   "metadata": {
    "collapsed": false
   },
   "outputs": [
    {
     "data": {
      "text/plain": [
       "Management               97\n",
       "Commerce                 76\n",
       "Engineering              22\n",
       "Science                  16\n",
       "Computer Applications    14\n",
       "Arts                      7\n",
       "Others                    3\n",
       "Name: Course_Degree, dtype: int64"
      ]
     },
     "execution_count": 13,
     "metadata": {},
     "output_type": "execute_result"
    }
   ],
   "source": [
    "# See the different categories in Course_Degree and their frequencies\n",
    "train_data['Course_Degree'].value_counts()"
   ]
  },
  {
   "cell_type": "code",
   "execution_count": 14,
   "metadata": {
    "collapsed": false
   },
   "outputs": [
    {
     "data": {
      "text/plain": [
       "MAT      158\n",
       "K-MAT     14\n",
       "CAT       14\n",
       "PGCET      2\n",
       "G-MAT      1\n",
       "XAT        1\n",
       "GCET       1\n",
       "Name: Entrance_Test, dtype: int64"
      ]
     },
     "execution_count": 14,
     "metadata": {},
     "output_type": "execute_result"
    }
   ],
   "source": [
    "# See the different categories in Entrance_Test and their frequencies\n",
    "train_data['Entrance_Test'].value_counts()"
   ]
  },
  {
   "cell_type": "code",
   "execution_count": 15,
   "metadata": {
    "collapsed": false
   },
   "outputs": [],
   "source": [
    "# Fill null values of Entrance_Test with MAT, since majority lies in that category\n",
    "train_data['Entrance_Test'] = train_data['Entrance_Test'].fillna(value='MAT')"
   ]
  },
  {
   "cell_type": "code",
   "execution_count": 16,
   "metadata": {
    "collapsed": false
   },
   "outputs": [],
   "source": [
    "# Convert categorical variables into (dummy) numeric variables\n",
    "\n",
    "from sklearn import preprocessing\n",
    "\n",
    "train_hsc_boards = pd.get_dummies(train_data['Board_HSC'])\n",
    "train_streams = pd.get_dummies(train_data['Stream_HSC'], prefix='stream_')\n",
    "train_courses = pd.get_dummies(train_data['Course_Degree'], prefix='course_')\n",
    "train_et = pd.get_dummies(train_data['Entrance_Test'])\n",
    "train_specializations = pd.get_dummies(train_data['Specialization_MBA'])"
   ]
  },
  {
   "cell_type": "code",
   "execution_count": 17,
   "metadata": {
    "collapsed": true
   },
   "outputs": [],
   "source": [
    "# Drop the categorical columns and merge the numeric ones\n",
    "\n",
    "train_features = train_data.drop(['ID', 'Gender', 'Board_SSC', 'Board_HSC', 'Stream_HSC', 'Course_Degree', 'Entrance_Test', 'Percentile_ET', 'Degree_Engg', 'Specialization_MBA',  'Placement', 'Salary'], axis=1)\n",
    "\n",
    "train_features = pd.concat([train_features, train_hsc_boards, train_streams, train_courses, train_et, train_specializations], axis=1)"
   ]
  },
  {
   "cell_type": "code",
   "execution_count": 18,
   "metadata": {
    "collapsed": false
   },
   "outputs": [
    {
     "data": {
      "text/html": [
       "<div>\n",
       "<table border=\"1\" class=\"dataframe\">\n",
       "  <thead>\n",
       "    <tr style=\"text-align: right;\">\n",
       "      <th></th>\n",
       "      <th>Gender-B</th>\n",
       "      <th>Percent_SSC</th>\n",
       "      <th>Board_CBSE</th>\n",
       "      <th>Board_ICSE</th>\n",
       "      <th>Percent_HSC</th>\n",
       "      <th>Percent_Degree</th>\n",
       "      <th>Experience_Yrs</th>\n",
       "      <th>S-TEST</th>\n",
       "      <th>Percent_MBA</th>\n",
       "      <th>S-TEST_SCORE</th>\n",
       "      <th>...</th>\n",
       "      <th>CAT</th>\n",
       "      <th>G-MAT</th>\n",
       "      <th>GCET</th>\n",
       "      <th>K-MAT</th>\n",
       "      <th>MAT</th>\n",
       "      <th>PGCET</th>\n",
       "      <th>XAT</th>\n",
       "      <th>Marketing &amp; Finance</th>\n",
       "      <th>Marketing &amp; HR</th>\n",
       "      <th>Marketing &amp; IB</th>\n",
       "    </tr>\n",
       "  </thead>\n",
       "  <tbody>\n",
       "    <tr>\n",
       "      <th>0</th>\n",
       "      <td>0</td>\n",
       "      <td>68.40</td>\n",
       "      <td>0</td>\n",
       "      <td>1</td>\n",
       "      <td>85.6</td>\n",
       "      <td>72.0</td>\n",
       "      <td>1</td>\n",
       "      <td>1</td>\n",
       "      <td>63.26</td>\n",
       "      <td>70.00</td>\n",
       "      <td>...</td>\n",
       "      <td>1.0</td>\n",
       "      <td>0.0</td>\n",
       "      <td>0.0</td>\n",
       "      <td>0.0</td>\n",
       "      <td>0.0</td>\n",
       "      <td>0.0</td>\n",
       "      <td>0.0</td>\n",
       "      <td>1.0</td>\n",
       "      <td>0.0</td>\n",
       "      <td>0.0</td>\n",
       "    </tr>\n",
       "    <tr>\n",
       "      <th>1</th>\n",
       "      <td>0</td>\n",
       "      <td>59.00</td>\n",
       "      <td>1</td>\n",
       "      <td>0</td>\n",
       "      <td>62.0</td>\n",
       "      <td>50.0</td>\n",
       "      <td>0</td>\n",
       "      <td>1</td>\n",
       "      <td>56.51</td>\n",
       "      <td>79.00</td>\n",
       "      <td>...</td>\n",
       "      <td>1.0</td>\n",
       "      <td>0.0</td>\n",
       "      <td>0.0</td>\n",
       "      <td>0.0</td>\n",
       "      <td>0.0</td>\n",
       "      <td>0.0</td>\n",
       "      <td>0.0</td>\n",
       "      <td>1.0</td>\n",
       "      <td>0.0</td>\n",
       "      <td>0.0</td>\n",
       "    </tr>\n",
       "    <tr>\n",
       "      <th>2</th>\n",
       "      <td>0</td>\n",
       "      <td>65.92</td>\n",
       "      <td>0</td>\n",
       "      <td>0</td>\n",
       "      <td>86.0</td>\n",
       "      <td>72.0</td>\n",
       "      <td>1</td>\n",
       "      <td>1</td>\n",
       "      <td>66.22</td>\n",
       "      <td>66.00</td>\n",
       "      <td>...</td>\n",
       "      <td>0.0</td>\n",
       "      <td>0.0</td>\n",
       "      <td>0.0</td>\n",
       "      <td>1.0</td>\n",
       "      <td>0.0</td>\n",
       "      <td>0.0</td>\n",
       "      <td>0.0</td>\n",
       "      <td>1.0</td>\n",
       "      <td>0.0</td>\n",
       "      <td>0.0</td>\n",
       "    </tr>\n",
       "    <tr>\n",
       "      <th>3</th>\n",
       "      <td>1</td>\n",
       "      <td>56.00</td>\n",
       "      <td>0</td>\n",
       "      <td>1</td>\n",
       "      <td>78.0</td>\n",
       "      <td>62.4</td>\n",
       "      <td>0</td>\n",
       "      <td>1</td>\n",
       "      <td>62.21</td>\n",
       "      <td>50.89</td>\n",
       "      <td>...</td>\n",
       "      <td>0.0</td>\n",
       "      <td>0.0</td>\n",
       "      <td>0.0</td>\n",
       "      <td>0.0</td>\n",
       "      <td>1.0</td>\n",
       "      <td>0.0</td>\n",
       "      <td>0.0</td>\n",
       "      <td>0.0</td>\n",
       "      <td>1.0</td>\n",
       "      <td>0.0</td>\n",
       "    </tr>\n",
       "    <tr>\n",
       "      <th>4</th>\n",
       "      <td>0</td>\n",
       "      <td>62.60</td>\n",
       "      <td>0</td>\n",
       "      <td>0</td>\n",
       "      <td>50.6</td>\n",
       "      <td>52.0</td>\n",
       "      <td>0</td>\n",
       "      <td>1</td>\n",
       "      <td>58.63</td>\n",
       "      <td>34.53</td>\n",
       "      <td>...</td>\n",
       "      <td>0.0</td>\n",
       "      <td>0.0</td>\n",
       "      <td>0.0</td>\n",
       "      <td>0.0</td>\n",
       "      <td>1.0</td>\n",
       "      <td>0.0</td>\n",
       "      <td>0.0</td>\n",
       "      <td>0.0</td>\n",
       "      <td>1.0</td>\n",
       "      <td>0.0</td>\n",
       "    </tr>\n",
       "  </tbody>\n",
       "</table>\n",
       "<p>5 rows × 36 columns</p>\n",
       "</div>"
      ],
      "text/plain": [
       "   Gender-B  Percent_SSC  Board_CBSE  Board_ICSE  Percent_HSC  Percent_Degree  \\\n",
       "0         0        68.40           0           1         85.6            72.0   \n",
       "1         0        59.00           1           0         62.0            50.0   \n",
       "2         0        65.92           0           0         86.0            72.0   \n",
       "3         1        56.00           0           1         78.0            62.4   \n",
       "4         0        62.60           0           0         50.6            52.0   \n",
       "\n",
       "   Experience_Yrs  S-TEST  Percent_MBA  S-TEST_SCORE       ...        CAT  \\\n",
       "0               1       1        63.26         70.00       ...        1.0   \n",
       "1               0       1        56.51         79.00       ...        1.0   \n",
       "2               1       1        66.22         66.00       ...        0.0   \n",
       "3               0       1        62.21         50.89       ...        0.0   \n",
       "4               0       1        58.63         34.53       ...        0.0   \n",
       "\n",
       "   G-MAT  GCET  K-MAT  MAT  PGCET  XAT  Marketing & Finance  Marketing & HR  \\\n",
       "0    0.0   0.0    0.0  0.0    0.0  0.0                  1.0             0.0   \n",
       "1    0.0   0.0    0.0  0.0    0.0  0.0                  1.0             0.0   \n",
       "2    0.0   0.0    1.0  0.0    0.0  0.0                  1.0             0.0   \n",
       "3    0.0   0.0    0.0  1.0    0.0  0.0                  0.0             1.0   \n",
       "4    0.0   0.0    0.0  1.0    0.0  0.0                  0.0             1.0   \n",
       "\n",
       "   Marketing & IB  \n",
       "0             0.0  \n",
       "1             0.0  \n",
       "2             0.0  \n",
       "3             0.0  \n",
       "4             0.0  \n",
       "\n",
       "[5 rows x 36 columns]"
      ]
     },
     "execution_count": 18,
     "metadata": {},
     "output_type": "execute_result"
    }
   ],
   "source": [
    "# Brief overview of the new data\n",
    "train_features.head()"
   ]
  },
  {
   "cell_type": "code",
   "execution_count": 19,
   "metadata": {
    "collapsed": false
   },
   "outputs": [
    {
     "data": {
      "text/html": [
       "<div>\n",
       "<table border=\"1\" class=\"dataframe\">\n",
       "  <thead>\n",
       "    <tr style=\"text-align: right;\">\n",
       "      <th></th>\n",
       "      <th>Gender-B</th>\n",
       "      <th>Percent_SSC</th>\n",
       "      <th>Board_CBSE</th>\n",
       "      <th>Board_ICSE</th>\n",
       "      <th>Percent_HSC</th>\n",
       "      <th>Percent_Degree</th>\n",
       "      <th>Experience_Yrs</th>\n",
       "      <th>S-TEST</th>\n",
       "      <th>Percent_MBA</th>\n",
       "      <th>S-TEST_SCORE</th>\n",
       "      <th>...</th>\n",
       "      <th>CAT</th>\n",
       "      <th>G-MAT</th>\n",
       "      <th>GCET</th>\n",
       "      <th>K-MAT</th>\n",
       "      <th>MAT</th>\n",
       "      <th>PGCET</th>\n",
       "      <th>XAT</th>\n",
       "      <th>Marketing &amp; Finance</th>\n",
       "      <th>Marketing &amp; HR</th>\n",
       "      <th>Marketing &amp; IB</th>\n",
       "    </tr>\n",
       "  </thead>\n",
       "  <tbody>\n",
       "    <tr>\n",
       "      <th>Gender-B</th>\n",
       "      <td>1.000000</td>\n",
       "      <td>0.148939</td>\n",
       "      <td>-0.022924</td>\n",
       "      <td>0.143209</td>\n",
       "      <td>0.120206</td>\n",
       "      <td>0.180022</td>\n",
       "      <td>-0.056080</td>\n",
       "      <td>-0.006449</td>\n",
       "      <td>0.292991</td>\n",
       "      <td>0.037357</td>\n",
       "      <td>...</td>\n",
       "      <td>-0.041670</td>\n",
       "      <td>-0.041715</td>\n",
       "      <td>-0.041715</td>\n",
       "      <td>-0.002024</td>\n",
       "      <td>0.041837</td>\n",
       "      <td>-0.059120</td>\n",
       "      <td>0.102446</td>\n",
       "      <td>-0.061495</td>\n",
       "      <td>0.095699</td>\n",
       "      <td>-0.103289</td>\n",
       "    </tr>\n",
       "    <tr>\n",
       "      <th>Percent_SSC</th>\n",
       "      <td>0.148939</td>\n",
       "      <td>1.000000</td>\n",
       "      <td>-0.010328</td>\n",
       "      <td>0.033662</td>\n",
       "      <td>0.365289</td>\n",
       "      <td>0.393113</td>\n",
       "      <td>-0.049615</td>\n",
       "      <td>0.095848</td>\n",
       "      <td>0.419159</td>\n",
       "      <td>0.202581</td>\n",
       "      <td>...</td>\n",
       "      <td>0.079099</td>\n",
       "      <td>-0.032791</td>\n",
       "      <td>-0.066132</td>\n",
       "      <td>0.038915</td>\n",
       "      <td>-0.088969</td>\n",
       "      <td>0.083327</td>\n",
       "      <td>0.027069</td>\n",
       "      <td>0.057208</td>\n",
       "      <td>-0.044408</td>\n",
       "      <td>-0.041421</td>\n",
       "    </tr>\n",
       "    <tr>\n",
       "      <th>Board_CBSE</th>\n",
       "      <td>-0.022924</td>\n",
       "      <td>-0.010328</td>\n",
       "      <td>1.000000</td>\n",
       "      <td>-0.291524</td>\n",
       "      <td>0.034394</td>\n",
       "      <td>-0.010521</td>\n",
       "      <td>-0.013203</td>\n",
       "      <td>0.057220</td>\n",
       "      <td>-0.069612</td>\n",
       "      <td>0.088130</td>\n",
       "      <td>...</td>\n",
       "      <td>-0.037279</td>\n",
       "      <td>-0.040853</td>\n",
       "      <td>-0.040853</td>\n",
       "      <td>-0.037279</td>\n",
       "      <td>0.061813</td>\n",
       "      <td>0.045178</td>\n",
       "      <td>-0.040853</td>\n",
       "      <td>-0.058525</td>\n",
       "      <td>0.053047</td>\n",
       "      <td>0.018903</td>\n",
       "    </tr>\n",
       "    <tr>\n",
       "      <th>Board_ICSE</th>\n",
       "      <td>0.143209</td>\n",
       "      <td>0.033662</td>\n",
       "      <td>-0.291524</td>\n",
       "      <td>1.000000</td>\n",
       "      <td>0.243635</td>\n",
       "      <td>0.142874</td>\n",
       "      <td>0.040564</td>\n",
       "      <td>0.024595</td>\n",
       "      <td>0.098395</td>\n",
       "      <td>0.106917</td>\n",
       "      <td>...</td>\n",
       "      <td>0.023363</td>\n",
       "      <td>-0.030496</td>\n",
       "      <td>-0.030496</td>\n",
       "      <td>0.023363</td>\n",
       "      <td>-0.003265</td>\n",
       "      <td>-0.043220</td>\n",
       "      <td>-0.030496</td>\n",
       "      <td>0.093940</td>\n",
       "      <td>-0.070490</td>\n",
       "      <td>-0.075510</td>\n",
       "    </tr>\n",
       "    <tr>\n",
       "      <th>Percent_HSC</th>\n",
       "      <td>0.120206</td>\n",
       "      <td>0.365289</td>\n",
       "      <td>0.034394</td>\n",
       "      <td>0.243635</td>\n",
       "      <td>1.000000</td>\n",
       "      <td>0.342384</td>\n",
       "      <td>-0.085035</td>\n",
       "      <td>0.102750</td>\n",
       "      <td>0.375294</td>\n",
       "      <td>0.207559</td>\n",
       "      <td>...</td>\n",
       "      <td>0.102631</td>\n",
       "      <td>-0.032952</td>\n",
       "      <td>0.007649</td>\n",
       "      <td>0.054070</td>\n",
       "      <td>-0.073617</td>\n",
       "      <td>-0.071610</td>\n",
       "      <td>-0.050528</td>\n",
       "      <td>0.162111</td>\n",
       "      <td>-0.164753</td>\n",
       "      <td>0.002548</td>\n",
       "    </tr>\n",
       "    <tr>\n",
       "      <th>Percent_Degree</th>\n",
       "      <td>0.180022</td>\n",
       "      <td>0.393113</td>\n",
       "      <td>-0.010521</td>\n",
       "      <td>0.142874</td>\n",
       "      <td>0.342384</td>\n",
       "      <td>1.000000</td>\n",
       "      <td>-0.061829</td>\n",
       "      <td>0.157263</td>\n",
       "      <td>0.420969</td>\n",
       "      <td>0.224457</td>\n",
       "      <td>...</td>\n",
       "      <td>0.089914</td>\n",
       "      <td>-0.026056</td>\n",
       "      <td>-0.068017</td>\n",
       "      <td>0.103185</td>\n",
       "      <td>-0.105836</td>\n",
       "      <td>-0.022060</td>\n",
       "      <td>-0.012069</td>\n",
       "      <td>0.106648</td>\n",
       "      <td>-0.073798</td>\n",
       "      <td>-0.104922</td>\n",
       "    </tr>\n",
       "    <tr>\n",
       "      <th>Experience_Yrs</th>\n",
       "      <td>-0.056080</td>\n",
       "      <td>-0.049615</td>\n",
       "      <td>-0.013203</td>\n",
       "      <td>0.040564</td>\n",
       "      <td>-0.085035</td>\n",
       "      <td>-0.061829</td>\n",
       "      <td>1.000000</td>\n",
       "      <td>-0.126033</td>\n",
       "      <td>0.169154</td>\n",
       "      <td>-0.037008</td>\n",
       "      <td>...</td>\n",
       "      <td>-0.099679</td>\n",
       "      <td>-0.047749</td>\n",
       "      <td>0.054260</td>\n",
       "      <td>-0.043572</td>\n",
       "      <td>0.084989</td>\n",
       "      <td>0.004614</td>\n",
       "      <td>0.054260</td>\n",
       "      <td>0.053171</td>\n",
       "      <td>-0.029063</td>\n",
       "      <td>-0.076133</td>\n",
       "    </tr>\n",
       "    <tr>\n",
       "      <th>S-TEST</th>\n",
       "      <td>-0.006449</td>\n",
       "      <td>0.095848</td>\n",
       "      <td>0.057220</td>\n",
       "      <td>0.024595</td>\n",
       "      <td>0.102750</td>\n",
       "      <td>0.157263</td>\n",
       "      <td>-0.126033</td>\n",
       "      <td>1.000000</td>\n",
       "      <td>0.126469</td>\n",
       "      <td>0.827508</td>\n",
       "      <td>...</td>\n",
       "      <td>0.120803</td>\n",
       "      <td>0.031376</td>\n",
       "      <td>0.031376</td>\n",
       "      <td>0.120803</td>\n",
       "      <td>-0.193995</td>\n",
       "      <td>0.044468</td>\n",
       "      <td>0.031376</td>\n",
       "      <td>0.044949</td>\n",
       "      <td>-0.048222</td>\n",
       "      <td>0.008534</td>\n",
       "    </tr>\n",
       "    <tr>\n",
       "      <th>Percent_MBA</th>\n",
       "      <td>0.292991</td>\n",
       "      <td>0.419159</td>\n",
       "      <td>-0.069612</td>\n",
       "      <td>0.098395</td>\n",
       "      <td>0.375294</td>\n",
       "      <td>0.420969</td>\n",
       "      <td>0.169154</td>\n",
       "      <td>0.126469</td>\n",
       "      <td>1.000000</td>\n",
       "      <td>0.230134</td>\n",
       "      <td>...</td>\n",
       "      <td>0.082136</td>\n",
       "      <td>-0.015673</td>\n",
       "      <td>-0.005036</td>\n",
       "      <td>0.077209</td>\n",
       "      <td>-0.122617</td>\n",
       "      <td>0.008573</td>\n",
       "      <td>0.083645</td>\n",
       "      <td>0.108694</td>\n",
       "      <td>-0.088458</td>\n",
       "      <td>-0.066117</td>\n",
       "    </tr>\n",
       "    <tr>\n",
       "      <th>S-TEST_SCORE</th>\n",
       "      <td>0.037357</td>\n",
       "      <td>0.202581</td>\n",
       "      <td>0.088130</td>\n",
       "      <td>0.106917</td>\n",
       "      <td>0.207559</td>\n",
       "      <td>0.224457</td>\n",
       "      <td>-0.037008</td>\n",
       "      <td>0.827508</td>\n",
       "      <td>0.230134</td>\n",
       "      <td>1.000000</td>\n",
       "      <td>...</td>\n",
       "      <td>-0.000855</td>\n",
       "      <td>-0.112708</td>\n",
       "      <td>-0.031006</td>\n",
       "      <td>0.235989</td>\n",
       "      <td>-0.098235</td>\n",
       "      <td>-0.159735</td>\n",
       "      <td>0.038440</td>\n",
       "      <td>0.106973</td>\n",
       "      <td>-0.101312</td>\n",
       "      <td>-0.021141</td>\n",
       "    </tr>\n",
       "    <tr>\n",
       "      <th>Marks_Communication</th>\n",
       "      <td>0.243467</td>\n",
       "      <td>0.433578</td>\n",
       "      <td>-0.053680</td>\n",
       "      <td>0.118483</td>\n",
       "      <td>0.344662</td>\n",
       "      <td>0.400033</td>\n",
       "      <td>0.059291</td>\n",
       "      <td>0.118626</td>\n",
       "      <td>0.695575</td>\n",
       "      <td>0.229470</td>\n",
       "      <td>...</td>\n",
       "      <td>0.084837</td>\n",
       "      <td>-0.054003</td>\n",
       "      <td>-0.069211</td>\n",
       "      <td>0.235398</td>\n",
       "      <td>-0.204622</td>\n",
       "      <td>0.020452</td>\n",
       "      <td>0.022035</td>\n",
       "      <td>0.078343</td>\n",
       "      <td>-0.082669</td>\n",
       "      <td>0.010629</td>\n",
       "    </tr>\n",
       "    <tr>\n",
       "      <th>Marks_Projectwork</th>\n",
       "      <td>0.201740</td>\n",
       "      <td>0.122859</td>\n",
       "      <td>0.049507</td>\n",
       "      <td>0.018989</td>\n",
       "      <td>0.158228</td>\n",
       "      <td>0.159994</td>\n",
       "      <td>0.131007</td>\n",
       "      <td>0.143916</td>\n",
       "      <td>0.462792</td>\n",
       "      <td>0.165076</td>\n",
       "      <td>...</td>\n",
       "      <td>0.123291</td>\n",
       "      <td>-0.019204</td>\n",
       "      <td>0.042018</td>\n",
       "      <td>-0.013807</td>\n",
       "      <td>-0.095927</td>\n",
       "      <td>-0.002426</td>\n",
       "      <td>0.094494</td>\n",
       "      <td>0.203598</td>\n",
       "      <td>-0.174053</td>\n",
       "      <td>-0.098081</td>\n",
       "    </tr>\n",
       "    <tr>\n",
       "      <th>Marks_BOCA</th>\n",
       "      <td>0.233253</td>\n",
       "      <td>0.290304</td>\n",
       "      <td>-0.009644</td>\n",
       "      <td>-0.012223</td>\n",
       "      <td>0.109131</td>\n",
       "      <td>0.245621</td>\n",
       "      <td>0.159899</td>\n",
       "      <td>-0.009504</td>\n",
       "      <td>0.474895</td>\n",
       "      <td>0.124230</td>\n",
       "      <td>...</td>\n",
       "      <td>-0.022151</td>\n",
       "      <td>0.099801</td>\n",
       "      <td>0.014954</td>\n",
       "      <td>-0.035762</td>\n",
       "      <td>0.008225</td>\n",
       "      <td>-0.013880</td>\n",
       "      <td>0.071519</td>\n",
       "      <td>0.113267</td>\n",
       "      <td>-0.081103</td>\n",
       "      <td>-0.103034</td>\n",
       "    </tr>\n",
       "    <tr>\n",
       "      <th>CBSE</th>\n",
       "      <td>-0.013953</td>\n",
       "      <td>0.047424</td>\n",
       "      <td>0.738994</td>\n",
       "      <td>-0.228401</td>\n",
       "      <td>0.035910</td>\n",
       "      <td>-0.078699</td>\n",
       "      <td>-0.020149</td>\n",
       "      <td>0.028798</td>\n",
       "      <td>-0.048867</td>\n",
       "      <td>0.071581</td>\n",
       "      <td>...</td>\n",
       "      <td>-0.094742</td>\n",
       "      <td>-0.035707</td>\n",
       "      <td>-0.035707</td>\n",
       "      <td>-0.052008</td>\n",
       "      <td>0.104314</td>\n",
       "      <td>0.059508</td>\n",
       "      <td>-0.035707</td>\n",
       "      <td>-0.039929</td>\n",
       "      <td>0.027449</td>\n",
       "      <td>0.039840</td>\n",
       "    </tr>\n",
       "    <tr>\n",
       "      <th>ISC</th>\n",
       "      <td>0.074981</td>\n",
       "      <td>-0.043880</td>\n",
       "      <td>-0.165293</td>\n",
       "      <td>0.624407</td>\n",
       "      <td>0.139150</td>\n",
       "      <td>0.065448</td>\n",
       "      <td>0.019773</td>\n",
       "      <td>-0.032076</td>\n",
       "      <td>-0.004849</td>\n",
       "      <td>0.026422</td>\n",
       "      <td>...</td>\n",
       "      <td>0.057326</td>\n",
       "      <td>-0.025955</td>\n",
       "      <td>-0.025955</td>\n",
       "      <td>0.109744</td>\n",
       "      <td>-0.089508</td>\n",
       "      <td>-0.036784</td>\n",
       "      <td>-0.025955</td>\n",
       "      <td>0.052307</td>\n",
       "      <td>-0.032040</td>\n",
       "      <td>-0.064267</td>\n",
       "    </tr>\n",
       "    <tr>\n",
       "      <th>Others</th>\n",
       "      <td>-0.041200</td>\n",
       "      <td>-0.010176</td>\n",
       "      <td>-0.527719</td>\n",
       "      <td>-0.245102</td>\n",
       "      <td>-0.130437</td>\n",
       "      <td>0.022134</td>\n",
       "      <td>0.003520</td>\n",
       "      <td>-0.002313</td>\n",
       "      <td>0.046132</td>\n",
       "      <td>-0.081328</td>\n",
       "      <td>...</td>\n",
       "      <td>0.041928</td>\n",
       "      <td>0.049665</td>\n",
       "      <td>0.049665</td>\n",
       "      <td>-0.032716</td>\n",
       "      <td>-0.027374</td>\n",
       "      <td>-0.025781</td>\n",
       "      <td>0.049665</td>\n",
       "      <td>-0.002371</td>\n",
       "      <td>-0.001160</td>\n",
       "      <td>0.010963</td>\n",
       "    </tr>\n",
       "    <tr>\n",
       "      <th>stream__Arts</th>\n",
       "      <td>0.035453</td>\n",
       "      <td>-0.177966</td>\n",
       "      <td>-0.065102</td>\n",
       "      <td>0.034926</td>\n",
       "      <td>-0.004616</td>\n",
       "      <td>-0.123025</td>\n",
       "      <td>0.155819</td>\n",
       "      <td>0.029949</td>\n",
       "      <td>0.058007</td>\n",
       "      <td>0.005638</td>\n",
       "      <td>...</td>\n",
       "      <td>-0.047250</td>\n",
       "      <td>-0.012272</td>\n",
       "      <td>-0.012272</td>\n",
       "      <td>-0.047250</td>\n",
       "      <td>0.075878</td>\n",
       "      <td>-0.017393</td>\n",
       "      <td>-0.012272</td>\n",
       "      <td>0.012798</td>\n",
       "      <td>-0.003081</td>\n",
       "      <td>-0.030387</td>\n",
       "    </tr>\n",
       "    <tr>\n",
       "      <th>stream__Commerce</th>\n",
       "      <td>-0.017763</td>\n",
       "      <td>-0.201478</td>\n",
       "      <td>0.043129</td>\n",
       "      <td>0.097824</td>\n",
       "      <td>0.266068</td>\n",
       "      <td>-0.069485</td>\n",
       "      <td>-0.156394</td>\n",
       "      <td>-0.003583</td>\n",
       "      <td>-0.065160</td>\n",
       "      <td>-0.015555</td>\n",
       "      <td>...</td>\n",
       "      <td>-0.008080</td>\n",
       "      <td>0.054807</td>\n",
       "      <td>0.054807</td>\n",
       "      <td>-0.044596</td>\n",
       "      <td>0.009422</td>\n",
       "      <td>-0.016416</td>\n",
       "      <td>0.054807</td>\n",
       "      <td>0.182417</td>\n",
       "      <td>-0.192934</td>\n",
       "      <td>0.026116</td>\n",
       "    </tr>\n",
       "    <tr>\n",
       "      <th>stream__Science</th>\n",
       "      <td>0.004775</td>\n",
       "      <td>0.271026</td>\n",
       "      <td>-0.019437</td>\n",
       "      <td>-0.112345</td>\n",
       "      <td>-0.268326</td>\n",
       "      <td>0.116517</td>\n",
       "      <td>0.100484</td>\n",
       "      <td>-0.007560</td>\n",
       "      <td>0.044451</td>\n",
       "      <td>0.013680</td>\n",
       "      <td>...</td>\n",
       "      <td>0.025865</td>\n",
       "      <td>-0.051040</td>\n",
       "      <td>-0.051040</td>\n",
       "      <td>0.062928</td>\n",
       "      <td>-0.037929</td>\n",
       "      <td>0.023164</td>\n",
       "      <td>-0.051040</td>\n",
       "      <td>-0.189932</td>\n",
       "      <td>0.196975</td>\n",
       "      <td>-0.015147</td>\n",
       "    </tr>\n",
       "    <tr>\n",
       "      <th>course__Arts</th>\n",
       "      <td>0.053791</td>\n",
       "      <td>-0.141753</td>\n",
       "      <td>-0.053801</td>\n",
       "      <td>0.114267</td>\n",
       "      <td>0.048522</td>\n",
       "      <td>-0.188120</td>\n",
       "      <td>0.067316</td>\n",
       "      <td>-0.108400</td>\n",
       "      <td>-0.073736</td>\n",
       "      <td>-0.100313</td>\n",
       "      <td>...</td>\n",
       "      <td>-0.044101</td>\n",
       "      <td>-0.011454</td>\n",
       "      <td>-0.011454</td>\n",
       "      <td>-0.044101</td>\n",
       "      <td>0.070821</td>\n",
       "      <td>-0.016234</td>\n",
       "      <td>-0.011454</td>\n",
       "      <td>-0.108995</td>\n",
       "      <td>0.119419</td>\n",
       "      <td>-0.028362</td>\n",
       "    </tr>\n",
       "    <tr>\n",
       "      <th>course__Commerce</th>\n",
       "      <td>0.000171</td>\n",
       "      <td>-0.052971</td>\n",
       "      <td>-0.027219</td>\n",
       "      <td>0.152368</td>\n",
       "      <td>0.206385</td>\n",
       "      <td>-0.061811</td>\n",
       "      <td>-0.022350</td>\n",
       "      <td>-0.087920</td>\n",
       "      <td>0.020504</td>\n",
       "      <td>-0.003217</td>\n",
       "      <td>...</td>\n",
       "      <td>0.018153</td>\n",
       "      <td>-0.045196</td>\n",
       "      <td>-0.045196</td>\n",
       "      <td>-0.058712</td>\n",
       "      <td>0.043788</td>\n",
       "      <td>-0.064054</td>\n",
       "      <td>0.094555</td>\n",
       "      <td>0.222942</td>\n",
       "      <td>-0.207840</td>\n",
       "      <td>-0.054237</td>\n",
       "    </tr>\n",
       "    <tr>\n",
       "      <th>course__Computer Applications</th>\n",
       "      <td>-0.002024</td>\n",
       "      <td>0.061040</td>\n",
       "      <td>-0.037279</td>\n",
       "      <td>-0.023562</td>\n",
       "      <td>-0.139677</td>\n",
       "      <td>0.219659</td>\n",
       "      <td>0.040588</td>\n",
       "      <td>-0.063539</td>\n",
       "      <td>-0.089658</td>\n",
       "      <td>-0.052365</td>\n",
       "      <td>...</td>\n",
       "      <td>0.012605</td>\n",
       "      <td>-0.016454</td>\n",
       "      <td>-0.016454</td>\n",
       "      <td>0.012605</td>\n",
       "      <td>-0.001762</td>\n",
       "      <td>-0.023319</td>\n",
       "      <td>-0.016454</td>\n",
       "      <td>-0.046845</td>\n",
       "      <td>0.060589</td>\n",
       "      <td>-0.040740</td>\n",
       "    </tr>\n",
       "    <tr>\n",
       "      <th>course__Engineering</th>\n",
       "      <td>-0.044004</td>\n",
       "      <td>0.251352</td>\n",
       "      <td>-0.038315</td>\n",
       "      <td>-0.073663</td>\n",
       "      <td>0.024212</td>\n",
       "      <td>-0.026420</td>\n",
       "      <td>0.016005</td>\n",
       "      <td>0.079357</td>\n",
       "      <td>0.140008</td>\n",
       "      <td>0.106083</td>\n",
       "      <td>...</td>\n",
       "      <td>0.042546</td>\n",
       "      <td>-0.021009</td>\n",
       "      <td>-0.021009</td>\n",
       "      <td>0.042546</td>\n",
       "      <td>-0.038290</td>\n",
       "      <td>-0.029775</td>\n",
       "      <td>-0.021009</td>\n",
       "      <td>-0.000379</td>\n",
       "      <td>-0.012788</td>\n",
       "      <td>0.040592</td>\n",
       "    </tr>\n",
       "    <tr>\n",
       "      <th>course__Management</th>\n",
       "      <td>-0.001298</td>\n",
       "      <td>-0.125022</td>\n",
       "      <td>0.110728</td>\n",
       "      <td>-0.120384</td>\n",
       "      <td>-0.124260</td>\n",
       "      <td>-0.017220</td>\n",
       "      <td>-0.140324</td>\n",
       "      <td>0.136521</td>\n",
       "      <td>-0.042259</td>\n",
       "      <td>0.014261</td>\n",
       "      <td>...</td>\n",
       "      <td>-0.028436</td>\n",
       "      <td>0.077973</td>\n",
       "      <td>0.077973</td>\n",
       "      <td>0.044596</td>\n",
       "      <td>-0.059177</td>\n",
       "      <td>0.110507</td>\n",
       "      <td>-0.054807</td>\n",
       "      <td>-0.112084</td>\n",
       "      <td>0.086253</td>\n",
       "      <td>0.083477</td>\n",
       "    </tr>\n",
       "    <tr>\n",
       "      <th>course__Others</th>\n",
       "      <td>0.011027</td>\n",
       "      <td>-0.067452</td>\n",
       "      <td>0.013280</td>\n",
       "      <td>-0.053047</td>\n",
       "      <td>-0.135452</td>\n",
       "      <td>0.056053</td>\n",
       "      <td>0.094385</td>\n",
       "      <td>-0.139756</td>\n",
       "      <td>-0.081994</td>\n",
       "      <td>-0.121442</td>\n",
       "      <td>...</td>\n",
       "      <td>-0.028621</td>\n",
       "      <td>-0.007434</td>\n",
       "      <td>-0.007434</td>\n",
       "      <td>-0.028621</td>\n",
       "      <td>0.045962</td>\n",
       "      <td>-0.010535</td>\n",
       "      <td>-0.007434</td>\n",
       "      <td>-0.059721</td>\n",
       "      <td>0.066362</td>\n",
       "      <td>-0.018407</td>\n",
       "    </tr>\n",
       "    <tr>\n",
       "      <th>course__Science</th>\n",
       "      <td>0.013792</td>\n",
       "      <td>0.120431</td>\n",
       "      <td>-0.056145</td>\n",
       "      <td>0.006192</td>\n",
       "      <td>-0.009523</td>\n",
       "      <td>0.074566</td>\n",
       "      <td>0.171628</td>\n",
       "      <td>-0.000184</td>\n",
       "      <td>0.053166</td>\n",
       "      <td>0.026454</td>\n",
       "      <td>...</td>\n",
       "      <td>0.003341</td>\n",
       "      <td>-0.017670</td>\n",
       "      <td>-0.017670</td>\n",
       "      <td>0.003341</td>\n",
       "      <td>0.012001</td>\n",
       "      <td>-0.025042</td>\n",
       "      <td>-0.017670</td>\n",
       "      <td>-0.050308</td>\n",
       "      <td>0.065068</td>\n",
       "      <td>-0.043752</td>\n",
       "    </tr>\n",
       "    <tr>\n",
       "      <th>CAT</th>\n",
       "      <td>-0.041670</td>\n",
       "      <td>0.079099</td>\n",
       "      <td>-0.037279</td>\n",
       "      <td>0.023363</td>\n",
       "      <td>0.102631</td>\n",
       "      <td>0.089914</td>\n",
       "      <td>-0.099679</td>\n",
       "      <td>0.120803</td>\n",
       "      <td>0.082136</td>\n",
       "      <td>-0.000855</td>\n",
       "      <td>...</td>\n",
       "      <td>1.000000</td>\n",
       "      <td>-0.016454</td>\n",
       "      <td>-0.016454</td>\n",
       "      <td>-0.063348</td>\n",
       "      <td>-0.622711</td>\n",
       "      <td>-0.023319</td>\n",
       "      <td>-0.016454</td>\n",
       "      <td>0.062875</td>\n",
       "      <td>-0.050360</td>\n",
       "      <td>-0.040740</td>\n",
       "    </tr>\n",
       "    <tr>\n",
       "      <th>G-MAT</th>\n",
       "      <td>-0.041715</td>\n",
       "      <td>-0.032791</td>\n",
       "      <td>-0.040853</td>\n",
       "      <td>-0.030496</td>\n",
       "      <td>-0.032952</td>\n",
       "      <td>-0.026056</td>\n",
       "      <td>-0.047749</td>\n",
       "      <td>0.031376</td>\n",
       "      <td>-0.015673</td>\n",
       "      <td>-0.112708</td>\n",
       "      <td>...</td>\n",
       "      <td>-0.016454</td>\n",
       "      <td>1.000000</td>\n",
       "      <td>-0.004274</td>\n",
       "      <td>-0.016454</td>\n",
       "      <td>-0.161738</td>\n",
       "      <td>-0.006057</td>\n",
       "      <td>-0.004274</td>\n",
       "      <td>-0.078662</td>\n",
       "      <td>0.082976</td>\n",
       "      <td>-0.010582</td>\n",
       "    </tr>\n",
       "    <tr>\n",
       "      <th>GCET</th>\n",
       "      <td>-0.041715</td>\n",
       "      <td>-0.066132</td>\n",
       "      <td>-0.040853</td>\n",
       "      <td>-0.030496</td>\n",
       "      <td>0.007649</td>\n",
       "      <td>-0.068017</td>\n",
       "      <td>0.054260</td>\n",
       "      <td>0.031376</td>\n",
       "      <td>-0.005036</td>\n",
       "      <td>-0.031006</td>\n",
       "      <td>...</td>\n",
       "      <td>-0.016454</td>\n",
       "      <td>-0.004274</td>\n",
       "      <td>1.000000</td>\n",
       "      <td>-0.016454</td>\n",
       "      <td>-0.161738</td>\n",
       "      <td>-0.006057</td>\n",
       "      <td>-0.004274</td>\n",
       "      <td>0.054328</td>\n",
       "      <td>-0.051503</td>\n",
       "      <td>-0.010582</td>\n",
       "    </tr>\n",
       "    <tr>\n",
       "      <th>K-MAT</th>\n",
       "      <td>-0.002024</td>\n",
       "      <td>0.038915</td>\n",
       "      <td>-0.037279</td>\n",
       "      <td>0.023363</td>\n",
       "      <td>0.054070</td>\n",
       "      <td>0.103185</td>\n",
       "      <td>-0.043572</td>\n",
       "      <td>0.120803</td>\n",
       "      <td>0.077209</td>\n",
       "      <td>0.235989</td>\n",
       "      <td>...</td>\n",
       "      <td>-0.063348</td>\n",
       "      <td>-0.016454</td>\n",
       "      <td>-0.016454</td>\n",
       "      <td>1.000000</td>\n",
       "      <td>-0.622711</td>\n",
       "      <td>-0.023319</td>\n",
       "      <td>-0.016454</td>\n",
       "      <td>-0.046845</td>\n",
       "      <td>0.023606</td>\n",
       "      <td>0.073236</td>\n",
       "    </tr>\n",
       "    <tr>\n",
       "      <th>MAT</th>\n",
       "      <td>0.041837</td>\n",
       "      <td>-0.088969</td>\n",
       "      <td>0.061813</td>\n",
       "      <td>-0.003265</td>\n",
       "      <td>-0.073617</td>\n",
       "      <td>-0.105836</td>\n",
       "      <td>0.084989</td>\n",
       "      <td>-0.193995</td>\n",
       "      <td>-0.122617</td>\n",
       "      <td>-0.098235</td>\n",
       "      <td>...</td>\n",
       "      <td>-0.622711</td>\n",
       "      <td>-0.161738</td>\n",
       "      <td>-0.161738</td>\n",
       "      <td>-0.622711</td>\n",
       "      <td>1.000000</td>\n",
       "      <td>-0.229222</td>\n",
       "      <td>-0.161738</td>\n",
       "      <td>-0.036898</td>\n",
       "      <td>0.041278</td>\n",
       "      <td>-0.012226</td>\n",
       "    </tr>\n",
       "    <tr>\n",
       "      <th>PGCET</th>\n",
       "      <td>-0.059120</td>\n",
       "      <td>0.083327</td>\n",
       "      <td>0.045178</td>\n",
       "      <td>-0.043220</td>\n",
       "      <td>-0.071610</td>\n",
       "      <td>-0.022060</td>\n",
       "      <td>0.004614</td>\n",
       "      <td>0.044468</td>\n",
       "      <td>0.008573</td>\n",
       "      <td>-0.159735</td>\n",
       "      <td>...</td>\n",
       "      <td>-0.023319</td>\n",
       "      <td>-0.006057</td>\n",
       "      <td>-0.006057</td>\n",
       "      <td>-0.023319</td>\n",
       "      <td>-0.229222</td>\n",
       "      <td>1.000000</td>\n",
       "      <td>-0.006057</td>\n",
       "      <td>0.076995</td>\n",
       "      <td>-0.072992</td>\n",
       "      <td>-0.014997</td>\n",
       "    </tr>\n",
       "    <tr>\n",
       "      <th>XAT</th>\n",
       "      <td>0.102446</td>\n",
       "      <td>0.027069</td>\n",
       "      <td>-0.040853</td>\n",
       "      <td>-0.030496</td>\n",
       "      <td>-0.050528</td>\n",
       "      <td>-0.012069</td>\n",
       "      <td>0.054260</td>\n",
       "      <td>0.031376</td>\n",
       "      <td>0.083645</td>\n",
       "      <td>0.038440</td>\n",
       "      <td>...</td>\n",
       "      <td>-0.016454</td>\n",
       "      <td>-0.004274</td>\n",
       "      <td>-0.004274</td>\n",
       "      <td>-0.016454</td>\n",
       "      <td>-0.161738</td>\n",
       "      <td>-0.006057</td>\n",
       "      <td>1.000000</td>\n",
       "      <td>0.054328</td>\n",
       "      <td>-0.051503</td>\n",
       "      <td>-0.010582</td>\n",
       "    </tr>\n",
       "    <tr>\n",
       "      <th>Marketing &amp; Finance</th>\n",
       "      <td>-0.061495</td>\n",
       "      <td>0.057208</td>\n",
       "      <td>-0.058525</td>\n",
       "      <td>0.093940</td>\n",
       "      <td>0.162111</td>\n",
       "      <td>0.106648</td>\n",
       "      <td>0.053171</td>\n",
       "      <td>0.044949</td>\n",
       "      <td>0.108694</td>\n",
       "      <td>0.106973</td>\n",
       "      <td>...</td>\n",
       "      <td>0.062875</td>\n",
       "      <td>-0.078662</td>\n",
       "      <td>0.054328</td>\n",
       "      <td>-0.046845</td>\n",
       "      <td>-0.036898</td>\n",
       "      <td>0.076995</td>\n",
       "      <td>0.054328</td>\n",
       "      <td>1.000000</td>\n",
       "      <td>-0.948002</td>\n",
       "      <td>-0.194773</td>\n",
       "    </tr>\n",
       "    <tr>\n",
       "      <th>Marketing &amp; HR</th>\n",
       "      <td>0.095699</td>\n",
       "      <td>-0.044408</td>\n",
       "      <td>0.053047</td>\n",
       "      <td>-0.070490</td>\n",
       "      <td>-0.164753</td>\n",
       "      <td>-0.073798</td>\n",
       "      <td>-0.029063</td>\n",
       "      <td>-0.048222</td>\n",
       "      <td>-0.088458</td>\n",
       "      <td>-0.101312</td>\n",
       "      <td>...</td>\n",
       "      <td>-0.050360</td>\n",
       "      <td>0.082976</td>\n",
       "      <td>-0.051503</td>\n",
       "      <td>0.023606</td>\n",
       "      <td>0.041278</td>\n",
       "      <td>-0.072992</td>\n",
       "      <td>-0.051503</td>\n",
       "      <td>-0.948002</td>\n",
       "      <td>1.000000</td>\n",
       "      <td>-0.127525</td>\n",
       "    </tr>\n",
       "    <tr>\n",
       "      <th>Marketing &amp; IB</th>\n",
       "      <td>-0.103289</td>\n",
       "      <td>-0.041421</td>\n",
       "      <td>0.018903</td>\n",
       "      <td>-0.075510</td>\n",
       "      <td>0.002548</td>\n",
       "      <td>-0.104922</td>\n",
       "      <td>-0.076133</td>\n",
       "      <td>0.008534</td>\n",
       "      <td>-0.066117</td>\n",
       "      <td>-0.021141</td>\n",
       "      <td>...</td>\n",
       "      <td>-0.040740</td>\n",
       "      <td>-0.010582</td>\n",
       "      <td>-0.010582</td>\n",
       "      <td>0.073236</td>\n",
       "      <td>-0.012226</td>\n",
       "      <td>-0.014997</td>\n",
       "      <td>-0.010582</td>\n",
       "      <td>-0.194773</td>\n",
       "      <td>-0.127525</td>\n",
       "      <td>1.000000</td>\n",
       "    </tr>\n",
       "  </tbody>\n",
       "</table>\n",
       "<p>36 rows × 36 columns</p>\n",
       "</div>"
      ],
      "text/plain": [
       "                               Gender-B  Percent_SSC  Board_CBSE  Board_ICSE  \\\n",
       "Gender-B                       1.000000     0.148939   -0.022924    0.143209   \n",
       "Percent_SSC                    0.148939     1.000000   -0.010328    0.033662   \n",
       "Board_CBSE                    -0.022924    -0.010328    1.000000   -0.291524   \n",
       "Board_ICSE                     0.143209     0.033662   -0.291524    1.000000   \n",
       "Percent_HSC                    0.120206     0.365289    0.034394    0.243635   \n",
       "Percent_Degree                 0.180022     0.393113   -0.010521    0.142874   \n",
       "Experience_Yrs                -0.056080    -0.049615   -0.013203    0.040564   \n",
       "S-TEST                        -0.006449     0.095848    0.057220    0.024595   \n",
       "Percent_MBA                    0.292991     0.419159   -0.069612    0.098395   \n",
       "S-TEST_SCORE                   0.037357     0.202581    0.088130    0.106917   \n",
       "Marks_Communication            0.243467     0.433578   -0.053680    0.118483   \n",
       "Marks_Projectwork              0.201740     0.122859    0.049507    0.018989   \n",
       "Marks_BOCA                     0.233253     0.290304   -0.009644   -0.012223   \n",
       "CBSE                          -0.013953     0.047424    0.738994   -0.228401   \n",
       "ISC                            0.074981    -0.043880   -0.165293    0.624407   \n",
       "Others                        -0.041200    -0.010176   -0.527719   -0.245102   \n",
       "stream__Arts                   0.035453    -0.177966   -0.065102    0.034926   \n",
       "stream__Commerce              -0.017763    -0.201478    0.043129    0.097824   \n",
       "stream__Science                0.004775     0.271026   -0.019437   -0.112345   \n",
       "course__Arts                   0.053791    -0.141753   -0.053801    0.114267   \n",
       "course__Commerce               0.000171    -0.052971   -0.027219    0.152368   \n",
       "course__Computer Applications -0.002024     0.061040   -0.037279   -0.023562   \n",
       "course__Engineering           -0.044004     0.251352   -0.038315   -0.073663   \n",
       "course__Management            -0.001298    -0.125022    0.110728   -0.120384   \n",
       "course__Others                 0.011027    -0.067452    0.013280   -0.053047   \n",
       "course__Science                0.013792     0.120431   -0.056145    0.006192   \n",
       "CAT                           -0.041670     0.079099   -0.037279    0.023363   \n",
       "G-MAT                         -0.041715    -0.032791   -0.040853   -0.030496   \n",
       "GCET                          -0.041715    -0.066132   -0.040853   -0.030496   \n",
       "K-MAT                         -0.002024     0.038915   -0.037279    0.023363   \n",
       "MAT                            0.041837    -0.088969    0.061813   -0.003265   \n",
       "PGCET                         -0.059120     0.083327    0.045178   -0.043220   \n",
       "XAT                            0.102446     0.027069   -0.040853   -0.030496   \n",
       "Marketing & Finance           -0.061495     0.057208   -0.058525    0.093940   \n",
       "Marketing & HR                 0.095699    -0.044408    0.053047   -0.070490   \n",
       "Marketing & IB                -0.103289    -0.041421    0.018903   -0.075510   \n",
       "\n",
       "                               Percent_HSC  Percent_Degree  Experience_Yrs  \\\n",
       "Gender-B                          0.120206        0.180022       -0.056080   \n",
       "Percent_SSC                       0.365289        0.393113       -0.049615   \n",
       "Board_CBSE                        0.034394       -0.010521       -0.013203   \n",
       "Board_ICSE                        0.243635        0.142874        0.040564   \n",
       "Percent_HSC                       1.000000        0.342384       -0.085035   \n",
       "Percent_Degree                    0.342384        1.000000       -0.061829   \n",
       "Experience_Yrs                   -0.085035       -0.061829        1.000000   \n",
       "S-TEST                            0.102750        0.157263       -0.126033   \n",
       "Percent_MBA                       0.375294        0.420969        0.169154   \n",
       "S-TEST_SCORE                      0.207559        0.224457       -0.037008   \n",
       "Marks_Communication               0.344662        0.400033        0.059291   \n",
       "Marks_Projectwork                 0.158228        0.159994        0.131007   \n",
       "Marks_BOCA                        0.109131        0.245621        0.159899   \n",
       "CBSE                              0.035910       -0.078699       -0.020149   \n",
       "ISC                               0.139150        0.065448        0.019773   \n",
       "Others                           -0.130437        0.022134        0.003520   \n",
       "stream__Arts                     -0.004616       -0.123025        0.155819   \n",
       "stream__Commerce                  0.266068       -0.069485       -0.156394   \n",
       "stream__Science                  -0.268326        0.116517        0.100484   \n",
       "course__Arts                      0.048522       -0.188120        0.067316   \n",
       "course__Commerce                  0.206385       -0.061811       -0.022350   \n",
       "course__Computer Applications    -0.139677        0.219659        0.040588   \n",
       "course__Engineering               0.024212       -0.026420        0.016005   \n",
       "course__Management               -0.124260       -0.017220       -0.140324   \n",
       "course__Others                   -0.135452        0.056053        0.094385   \n",
       "course__Science                  -0.009523        0.074566        0.171628   \n",
       "CAT                               0.102631        0.089914       -0.099679   \n",
       "G-MAT                            -0.032952       -0.026056       -0.047749   \n",
       "GCET                              0.007649       -0.068017        0.054260   \n",
       "K-MAT                             0.054070        0.103185       -0.043572   \n",
       "MAT                              -0.073617       -0.105836        0.084989   \n",
       "PGCET                            -0.071610       -0.022060        0.004614   \n",
       "XAT                              -0.050528       -0.012069        0.054260   \n",
       "Marketing & Finance               0.162111        0.106648        0.053171   \n",
       "Marketing & HR                   -0.164753       -0.073798       -0.029063   \n",
       "Marketing & IB                    0.002548       -0.104922       -0.076133   \n",
       "\n",
       "                                 S-TEST  Percent_MBA  S-TEST_SCORE  \\\n",
       "Gender-B                      -0.006449     0.292991      0.037357   \n",
       "Percent_SSC                    0.095848     0.419159      0.202581   \n",
       "Board_CBSE                     0.057220    -0.069612      0.088130   \n",
       "Board_ICSE                     0.024595     0.098395      0.106917   \n",
       "Percent_HSC                    0.102750     0.375294      0.207559   \n",
       "Percent_Degree                 0.157263     0.420969      0.224457   \n",
       "Experience_Yrs                -0.126033     0.169154     -0.037008   \n",
       "S-TEST                         1.000000     0.126469      0.827508   \n",
       "Percent_MBA                    0.126469     1.000000      0.230134   \n",
       "S-TEST_SCORE                   0.827508     0.230134      1.000000   \n",
       "Marks_Communication            0.118626     0.695575      0.229470   \n",
       "Marks_Projectwork              0.143916     0.462792      0.165076   \n",
       "Marks_BOCA                    -0.009504     0.474895      0.124230   \n",
       "CBSE                           0.028798    -0.048867      0.071581   \n",
       "ISC                           -0.032076    -0.004849      0.026422   \n",
       "Others                        -0.002313     0.046132     -0.081328   \n",
       "stream__Arts                   0.029949     0.058007      0.005638   \n",
       "stream__Commerce              -0.003583    -0.065160     -0.015555   \n",
       "stream__Science               -0.007560     0.044451      0.013680   \n",
       "course__Arts                  -0.108400    -0.073736     -0.100313   \n",
       "course__Commerce              -0.087920     0.020504     -0.003217   \n",
       "course__Computer Applications -0.063539    -0.089658     -0.052365   \n",
       "course__Engineering            0.079357     0.140008      0.106083   \n",
       "course__Management             0.136521    -0.042259      0.014261   \n",
       "course__Others                -0.139756    -0.081994     -0.121442   \n",
       "course__Science               -0.000184     0.053166      0.026454   \n",
       "CAT                            0.120803     0.082136     -0.000855   \n",
       "G-MAT                          0.031376    -0.015673     -0.112708   \n",
       "GCET                           0.031376    -0.005036     -0.031006   \n",
       "K-MAT                          0.120803     0.077209      0.235989   \n",
       "MAT                           -0.193995    -0.122617     -0.098235   \n",
       "PGCET                          0.044468     0.008573     -0.159735   \n",
       "XAT                            0.031376     0.083645      0.038440   \n",
       "Marketing & Finance            0.044949     0.108694      0.106973   \n",
       "Marketing & HR                -0.048222    -0.088458     -0.101312   \n",
       "Marketing & IB                 0.008534    -0.066117     -0.021141   \n",
       "\n",
       "                                    ...             CAT     G-MAT      GCET  \\\n",
       "Gender-B                            ...       -0.041670 -0.041715 -0.041715   \n",
       "Percent_SSC                         ...        0.079099 -0.032791 -0.066132   \n",
       "Board_CBSE                          ...       -0.037279 -0.040853 -0.040853   \n",
       "Board_ICSE                          ...        0.023363 -0.030496 -0.030496   \n",
       "Percent_HSC                         ...        0.102631 -0.032952  0.007649   \n",
       "Percent_Degree                      ...        0.089914 -0.026056 -0.068017   \n",
       "Experience_Yrs                      ...       -0.099679 -0.047749  0.054260   \n",
       "S-TEST                              ...        0.120803  0.031376  0.031376   \n",
       "Percent_MBA                         ...        0.082136 -0.015673 -0.005036   \n",
       "S-TEST_SCORE                        ...       -0.000855 -0.112708 -0.031006   \n",
       "Marks_Communication                 ...        0.084837 -0.054003 -0.069211   \n",
       "Marks_Projectwork                   ...        0.123291 -0.019204  0.042018   \n",
       "Marks_BOCA                          ...       -0.022151  0.099801  0.014954   \n",
       "CBSE                                ...       -0.094742 -0.035707 -0.035707   \n",
       "ISC                                 ...        0.057326 -0.025955 -0.025955   \n",
       "Others                              ...        0.041928  0.049665  0.049665   \n",
       "stream__Arts                        ...       -0.047250 -0.012272 -0.012272   \n",
       "stream__Commerce                    ...       -0.008080  0.054807  0.054807   \n",
       "stream__Science                     ...        0.025865 -0.051040 -0.051040   \n",
       "course__Arts                        ...       -0.044101 -0.011454 -0.011454   \n",
       "course__Commerce                    ...        0.018153 -0.045196 -0.045196   \n",
       "course__Computer Applications       ...        0.012605 -0.016454 -0.016454   \n",
       "course__Engineering                 ...        0.042546 -0.021009 -0.021009   \n",
       "course__Management                  ...       -0.028436  0.077973  0.077973   \n",
       "course__Others                      ...       -0.028621 -0.007434 -0.007434   \n",
       "course__Science                     ...        0.003341 -0.017670 -0.017670   \n",
       "CAT                                 ...        1.000000 -0.016454 -0.016454   \n",
       "G-MAT                               ...       -0.016454  1.000000 -0.004274   \n",
       "GCET                                ...       -0.016454 -0.004274  1.000000   \n",
       "K-MAT                               ...       -0.063348 -0.016454 -0.016454   \n",
       "MAT                                 ...       -0.622711 -0.161738 -0.161738   \n",
       "PGCET                               ...       -0.023319 -0.006057 -0.006057   \n",
       "XAT                                 ...       -0.016454 -0.004274 -0.004274   \n",
       "Marketing & Finance                 ...        0.062875 -0.078662  0.054328   \n",
       "Marketing & HR                      ...       -0.050360  0.082976 -0.051503   \n",
       "Marketing & IB                      ...       -0.040740 -0.010582 -0.010582   \n",
       "\n",
       "                                  K-MAT       MAT     PGCET       XAT  \\\n",
       "Gender-B                      -0.002024  0.041837 -0.059120  0.102446   \n",
       "Percent_SSC                    0.038915 -0.088969  0.083327  0.027069   \n",
       "Board_CBSE                    -0.037279  0.061813  0.045178 -0.040853   \n",
       "Board_ICSE                     0.023363 -0.003265 -0.043220 -0.030496   \n",
       "Percent_HSC                    0.054070 -0.073617 -0.071610 -0.050528   \n",
       "Percent_Degree                 0.103185 -0.105836 -0.022060 -0.012069   \n",
       "Experience_Yrs                -0.043572  0.084989  0.004614  0.054260   \n",
       "S-TEST                         0.120803 -0.193995  0.044468  0.031376   \n",
       "Percent_MBA                    0.077209 -0.122617  0.008573  0.083645   \n",
       "S-TEST_SCORE                   0.235989 -0.098235 -0.159735  0.038440   \n",
       "Marks_Communication            0.235398 -0.204622  0.020452  0.022035   \n",
       "Marks_Projectwork             -0.013807 -0.095927 -0.002426  0.094494   \n",
       "Marks_BOCA                    -0.035762  0.008225 -0.013880  0.071519   \n",
       "CBSE                          -0.052008  0.104314  0.059508 -0.035707   \n",
       "ISC                            0.109744 -0.089508 -0.036784 -0.025955   \n",
       "Others                        -0.032716 -0.027374 -0.025781  0.049665   \n",
       "stream__Arts                  -0.047250  0.075878 -0.017393 -0.012272   \n",
       "stream__Commerce              -0.044596  0.009422 -0.016416  0.054807   \n",
       "stream__Science                0.062928 -0.037929  0.023164 -0.051040   \n",
       "course__Arts                  -0.044101  0.070821 -0.016234 -0.011454   \n",
       "course__Commerce              -0.058712  0.043788 -0.064054  0.094555   \n",
       "course__Computer Applications  0.012605 -0.001762 -0.023319 -0.016454   \n",
       "course__Engineering            0.042546 -0.038290 -0.029775 -0.021009   \n",
       "course__Management             0.044596 -0.059177  0.110507 -0.054807   \n",
       "course__Others                -0.028621  0.045962 -0.010535 -0.007434   \n",
       "course__Science                0.003341  0.012001 -0.025042 -0.017670   \n",
       "CAT                           -0.063348 -0.622711 -0.023319 -0.016454   \n",
       "G-MAT                         -0.016454 -0.161738 -0.006057 -0.004274   \n",
       "GCET                          -0.016454 -0.161738 -0.006057 -0.004274   \n",
       "K-MAT                          1.000000 -0.622711 -0.023319 -0.016454   \n",
       "MAT                           -0.622711  1.000000 -0.229222 -0.161738   \n",
       "PGCET                         -0.023319 -0.229222  1.000000 -0.006057   \n",
       "XAT                           -0.016454 -0.161738 -0.006057  1.000000   \n",
       "Marketing & Finance           -0.046845 -0.036898  0.076995  0.054328   \n",
       "Marketing & HR                 0.023606  0.041278 -0.072992 -0.051503   \n",
       "Marketing & IB                 0.073236 -0.012226 -0.014997 -0.010582   \n",
       "\n",
       "                               Marketing & Finance  Marketing & HR  \\\n",
       "Gender-B                                 -0.061495        0.095699   \n",
       "Percent_SSC                               0.057208       -0.044408   \n",
       "Board_CBSE                               -0.058525        0.053047   \n",
       "Board_ICSE                                0.093940       -0.070490   \n",
       "Percent_HSC                               0.162111       -0.164753   \n",
       "Percent_Degree                            0.106648       -0.073798   \n",
       "Experience_Yrs                            0.053171       -0.029063   \n",
       "S-TEST                                    0.044949       -0.048222   \n",
       "Percent_MBA                               0.108694       -0.088458   \n",
       "S-TEST_SCORE                              0.106973       -0.101312   \n",
       "Marks_Communication                       0.078343       -0.082669   \n",
       "Marks_Projectwork                         0.203598       -0.174053   \n",
       "Marks_BOCA                                0.113267       -0.081103   \n",
       "CBSE                                     -0.039929        0.027449   \n",
       "ISC                                       0.052307       -0.032040   \n",
       "Others                                   -0.002371       -0.001160   \n",
       "stream__Arts                              0.012798       -0.003081   \n",
       "stream__Commerce                          0.182417       -0.192934   \n",
       "stream__Science                          -0.189932        0.196975   \n",
       "course__Arts                             -0.108995        0.119419   \n",
       "course__Commerce                          0.222942       -0.207840   \n",
       "course__Computer Applications            -0.046845        0.060589   \n",
       "course__Engineering                      -0.000379       -0.012788   \n",
       "course__Management                       -0.112084        0.086253   \n",
       "course__Others                           -0.059721        0.066362   \n",
       "course__Science                          -0.050308        0.065068   \n",
       "CAT                                       0.062875       -0.050360   \n",
       "G-MAT                                    -0.078662        0.082976   \n",
       "GCET                                      0.054328       -0.051503   \n",
       "K-MAT                                    -0.046845        0.023606   \n",
       "MAT                                      -0.036898        0.041278   \n",
       "PGCET                                     0.076995       -0.072992   \n",
       "XAT                                       0.054328       -0.051503   \n",
       "Marketing & Finance                       1.000000       -0.948002   \n",
       "Marketing & HR                           -0.948002        1.000000   \n",
       "Marketing & IB                           -0.194773       -0.127525   \n",
       "\n",
       "                               Marketing & IB  \n",
       "Gender-B                            -0.103289  \n",
       "Percent_SSC                         -0.041421  \n",
       "Board_CBSE                           0.018903  \n",
       "Board_ICSE                          -0.075510  \n",
       "Percent_HSC                          0.002548  \n",
       "Percent_Degree                      -0.104922  \n",
       "Experience_Yrs                      -0.076133  \n",
       "S-TEST                               0.008534  \n",
       "Percent_MBA                         -0.066117  \n",
       "S-TEST_SCORE                        -0.021141  \n",
       "Marks_Communication                  0.010629  \n",
       "Marks_Projectwork                   -0.098081  \n",
       "Marks_BOCA                          -0.103034  \n",
       "CBSE                                 0.039840  \n",
       "ISC                                 -0.064267  \n",
       "Others                               0.010963  \n",
       "stream__Arts                        -0.030387  \n",
       "stream__Commerce                     0.026116  \n",
       "stream__Science                     -0.015147  \n",
       "course__Arts                        -0.028362  \n",
       "course__Commerce                    -0.054237  \n",
       "course__Computer Applications       -0.040740  \n",
       "course__Engineering                  0.040592  \n",
       "course__Management                   0.083477  \n",
       "course__Others                      -0.018407  \n",
       "course__Science                     -0.043752  \n",
       "CAT                                 -0.040740  \n",
       "G-MAT                               -0.010582  \n",
       "GCET                                -0.010582  \n",
       "K-MAT                                0.073236  \n",
       "MAT                                 -0.012226  \n",
       "PGCET                               -0.014997  \n",
       "XAT                                 -0.010582  \n",
       "Marketing & Finance                 -0.194773  \n",
       "Marketing & HR                      -0.127525  \n",
       "Marketing & IB                       1.000000  \n",
       "\n",
       "[36 rows x 36 columns]"
      ]
     },
     "execution_count": 19,
     "metadata": {},
     "output_type": "execute_result"
    }
   ],
   "source": [
    "# Correlation matrix for all the features\n",
    "train_features.corr()"
   ]
  },
  {
   "cell_type": "code",
   "execution_count": 20,
   "metadata": {
    "collapsed": false
   },
   "outputs": [],
   "source": [
    "# Set the dependent variable\n",
    "target = train_data['Placement']"
   ]
  },
  {
   "cell_type": "code",
   "execution_count": 21,
   "metadata": {
    "collapsed": false
   },
   "outputs": [
    {
     "data": {
      "text/plain": [
       "0    1\n",
       "1    1\n",
       "2    1\n",
       "3    1\n",
       "4    1\n",
       "Name: Placement, dtype: int64"
      ]
     },
     "execution_count": 21,
     "metadata": {},
     "output_type": "execute_result"
    }
   ],
   "source": [
    "# Brief overview of the target variable\n",
    "target.head()"
   ]
  },
  {
   "cell_type": "code",
   "execution_count": 22,
   "metadata": {
    "collapsed": false
   },
   "outputs": [
    {
     "data": {
      "text/plain": [
       "(array([  47.,    0.,    0.,    0.,    0.,    0.,    0.,    0.,    0.,  188.]),\n",
       " array([ 0. ,  0.1,  0.2,  0.3,  0.4,  0.5,  0.6,  0.7,  0.8,  0.9,  1. ]),\n",
       " <a list of 10 Patch objects>)"
      ]
     },
     "execution_count": 22,
     "metadata": {},
     "output_type": "execute_result"
    },
    {
     "data": {
      "image/png": "[encoded data removed]",
      "text/plain": [
       "<matplotlib.figure.Figure at 0x7f95da84a650>"
      ]
     },
     "metadata": {},
     "output_type": "display_data"
    }
   ],
   "source": [
    "# Plot the target variable\n",
    "plt.hist(target)"
   ]
  },
  {
   "cell_type": "code",
   "execution_count": 23,
   "metadata": {
    "collapsed": false
   },
   "outputs": [
    {
     "data": {
      "text/plain": [
       "1    188\n",
       "0     47\n",
       "Name: Placement, dtype: int64"
      ]
     },
     "execution_count": 23,
     "metadata": {},
     "output_type": "execute_result"
    }
   ],
   "source": [
    "# See the different categories in the target variable and their frequencies\n",
    "target.value_counts()"
   ]
  },
  {
   "cell_type": "code",
   "execution_count": 24,
   "metadata": {
    "collapsed": false
   },
   "outputs": [],
   "source": [
    "# Imports for Oversampling (since data is highly imbalanced + small)\n",
    "\n",
    "from imblearn.over_sampling import RandomOverSampler\n",
    "from imblearn.over_sampling import SMOTE\n",
    "\n",
    "from imblearn.combine import SMOTETomek\n",
    "from imblearn.combine import SMOTEENN"
   ]
  },
  {
   "cell_type": "code",
   "execution_count": 25,
   "metadata": {
    "collapsed": false
   },
   "outputs": [],
   "source": [
    "# Generate the new dataset using over-sampling method\n",
    "\n",
    "verbose = False\n",
    "ratio = 'auto'\n",
    "\n",
    "# 'Random over-sampling'\n",
    "OS = RandomOverSampler(ratio=ratio)\n",
    "train_os_features, train_os_target = OS.fit_sample(train_features, target.values.ravel())\n",
    "\n",
    "# 'SMOTE'\n",
    "smote = SMOTE(ratio=ratio, kind='regular')\n",
    "train_smo_features, train_smo_target = smote.fit_sample(train_features, target.values.ravel())\n",
    "\n",
    "# # 'SMOTE SVM'\n",
    "svm_args={'class_weight': ''}\n",
    "svmsmote = SMOTE(ratio=ratio, kind='svm', **svm_args)\n",
    "train_svs_features, train_svs_target = svmsmote.fit_sample(train_features, target.values.ravel())\n",
    "\n",
    "# # 'SMOTE Tomek links'\n",
    "STK = SMOTETomek(ratio=ratio)\n",
    "train_stk_features, train_stk_target = STK.fit_sample(train_features, target.values.ravel())\n",
    "\n",
    "# # 'SMOTE ENN'\n",
    "SENN = SMOTEENN(ratio=ratio)\n",
    "train_senn_features, train_senn_target = SENN.fit_sample(train_features, target.values.ravel())\n"
   ]
  },
  {
   "cell_type": "code",
   "execution_count": 26,
   "metadata": {
    "collapsed": false
   },
   "outputs": [],
   "source": [
    "# Convert the generated numpy arrays into data frames\n",
    "\n",
    "train_os_features = DataFrame(train_os_features, columns=train_features.columns)\n",
    "train_os_target = DataFrame(train_os_target, columns=['Placement'])\n",
    "\n",
    "train_smo_features = DataFrame(train_smo_features, columns=train_features.columns)\n",
    "train_smo_target = DataFrame(train_smo_target, columns=['Placement'])\n",
    "\n",
    "train_svs_features = DataFrame(train_svs_features, columns=train_features.columns)\n",
    "train_svs_target = DataFrame(train_svs_target, columns=['Placement'])\n",
    "\n",
    "train_stk_features = DataFrame(train_stk_features, columns=train_features.columns)\n",
    "train_stk_target = DataFrame(train_stk_target, columns=['Placement'])\n",
    "\n",
    "train_senn_features = DataFrame(train_senn_features, columns=train_features.columns)\n",
    "train_senn_target = DataFrame(train_senn_target, columns=['Placement'])"
   ]
  },
  {
   "cell_type": "code",
   "execution_count": 27,
   "metadata": {
    "collapsed": false
   },
   "outputs": [
    {
     "name": "stdout",
     "output_type": "stream",
     "text": [
      "(376, 1)\n",
      "(376, 1)\n",
      "(321, 1)\n",
      "(371, 1)\n",
      "(274, 1)\n"
     ]
    }
   ],
   "source": [
    "# Check total number of samples\n",
    "\n",
    "print train_os_target.shape\n",
    "print train_smo_target.shape\n",
    "print train_svs_target.shape\n",
    "print train_stk_target.shape\n",
    "print train_senn_target.shape"
   ]
  },
  {
   "cell_type": "code",
   "execution_count": 28,
   "metadata": {
    "collapsed": false
   },
   "outputs": [
    {
     "name": "stdout",
     "output_type": "stream",
     "text": [
      "1    188\n",
      "0    188\n",
      "Name: Placement, dtype: int64\n",
      "1    188\n",
      "0    188\n",
      "Name: Placement, dtype: int64\n",
      "1    188\n",
      "0    133\n",
      "Name: Placement, dtype: int64\n",
      "0    188\n",
      "1    183\n",
      "Name: Placement, dtype: int64\n",
      "0    188\n",
      "1     86\n",
      "Name: Placement, dtype: int64\n"
     ]
    }
   ],
   "source": [
    "# Check how the new balanced data are distributed\n",
    "\n",
    "print train_os_target['Placement'].value_counts()\n",
    "print train_smo_target['Placement'].value_counts()\n",
    "print train_svs_target['Placement'].value_counts()\n",
    "print train_stk_target['Placement'].value_counts()\n",
    "print train_senn_target['Placement'].value_counts()"
   ]
  },
  {
   "cell_type": "code",
   "execution_count": 29,
   "metadata": {
    "collapsed": false,
    "scrolled": false
   },
   "outputs": [
    {
     "data": {
      "text/html": [
       "<div>\n",
       "<table border=\"1\" class=\"dataframe\">\n",
       "  <thead>\n",
       "    <tr style=\"text-align: right;\">\n",
       "      <th></th>\n",
       "      <th>ID</th>\n",
       "      <th>Gender</th>\n",
       "      <th>Gender-B</th>\n",
       "      <th>Percent_SSC</th>\n",
       "      <th>Board_SSC</th>\n",
       "      <th>Board_CBSE</th>\n",
       "      <th>Board_ICSE</th>\n",
       "      <th>Percent_HSC</th>\n",
       "      <th>Board_HSC</th>\n",
       "      <th>Stream_HSC</th>\n",
       "      <th>...</th>\n",
       "      <th>Experience_Yrs</th>\n",
       "      <th>Entrance_Test</th>\n",
       "      <th>S-TEST</th>\n",
       "      <th>Percentile_ET</th>\n",
       "      <th>Percent_MBA</th>\n",
       "      <th>S-TEST_SCORE</th>\n",
       "      <th>Specialization_MBA</th>\n",
       "      <th>Marks_Communication</th>\n",
       "      <th>Marks_Projectwork</th>\n",
       "      <th>Marks_BOCA</th>\n",
       "    </tr>\n",
       "  </thead>\n",
       "  <tbody>\n",
       "    <tr>\n",
       "      <th>0</th>\n",
       "      <td>3</td>\n",
       "      <td>M</td>\n",
       "      <td>0</td>\n",
       "      <td>54.0</td>\n",
       "      <td>CBSE</td>\n",
       "      <td>1</td>\n",
       "      <td>0</td>\n",
       "      <td>67.0</td>\n",
       "      <td>CBSE</td>\n",
       "      <td>Commerce</td>\n",
       "      <td>...</td>\n",
       "      <td>0</td>\n",
       "      <td>MAT</td>\n",
       "      <td>1</td>\n",
       "      <td>67.00</td>\n",
       "      <td>56.49</td>\n",
       "      <td>67.00</td>\n",
       "      <td>Marketing &amp; Finance</td>\n",
       "      <td>53</td>\n",
       "      <td>71</td>\n",
       "      <td>74</td>\n",
       "    </tr>\n",
       "    <tr>\n",
       "      <th>1</th>\n",
       "      <td>6</td>\n",
       "      <td>M</td>\n",
       "      <td>0</td>\n",
       "      <td>54.0</td>\n",
       "      <td>ICSE</td>\n",
       "      <td>0</td>\n",
       "      <td>1</td>\n",
       "      <td>58.0</td>\n",
       "      <td>Others</td>\n",
       "      <td>Science</td>\n",
       "      <td>...</td>\n",
       "      <td>0</td>\n",
       "      <td>MAT</td>\n",
       "      <td>1</td>\n",
       "      <td>85.00</td>\n",
       "      <td>55.14</td>\n",
       "      <td>85.00</td>\n",
       "      <td>Marketing &amp; HR</td>\n",
       "      <td>50</td>\n",
       "      <td>57</td>\n",
       "      <td>55</td>\n",
       "    </tr>\n",
       "    <tr>\n",
       "      <th>2</th>\n",
       "      <td>7</td>\n",
       "      <td>M</td>\n",
       "      <td>0</td>\n",
       "      <td>52.5</td>\n",
       "      <td>Others</td>\n",
       "      <td>0</td>\n",
       "      <td>0</td>\n",
       "      <td>53.4</td>\n",
       "      <td>Others</td>\n",
       "      <td>Commerce</td>\n",
       "      <td>...</td>\n",
       "      <td>1</td>\n",
       "      <td>NaN</td>\n",
       "      <td>0</td>\n",
       "      <td>0.00</td>\n",
       "      <td>72.00</td>\n",
       "      <td>0.00</td>\n",
       "      <td>Marketing &amp; Finance</td>\n",
       "      <td>73</td>\n",
       "      <td>79</td>\n",
       "      <td>55</td>\n",
       "    </tr>\n",
       "    <tr>\n",
       "      <th>3</th>\n",
       "      <td>9</td>\n",
       "      <td>M</td>\n",
       "      <td>0</td>\n",
       "      <td>56.0</td>\n",
       "      <td>CBSE</td>\n",
       "      <td>1</td>\n",
       "      <td>0</td>\n",
       "      <td>47.0</td>\n",
       "      <td>CBSE</td>\n",
       "      <td>Science</td>\n",
       "      <td>...</td>\n",
       "      <td>0</td>\n",
       "      <td>MAT</td>\n",
       "      <td>1</td>\n",
       "      <td>46.92</td>\n",
       "      <td>62.40</td>\n",
       "      <td>46.92</td>\n",
       "      <td>Marketing &amp; Finance</td>\n",
       "      <td>60</td>\n",
       "      <td>66</td>\n",
       "      <td>56</td>\n",
       "    </tr>\n",
       "    <tr>\n",
       "      <th>4</th>\n",
       "      <td>11</td>\n",
       "      <td>M</td>\n",
       "      <td>0</td>\n",
       "      <td>53.0</td>\n",
       "      <td>Others</td>\n",
       "      <td>0</td>\n",
       "      <td>0</td>\n",
       "      <td>55.0</td>\n",
       "      <td>Others</td>\n",
       "      <td>Commerce</td>\n",
       "      <td>...</td>\n",
       "      <td>0</td>\n",
       "      <td>NaN</td>\n",
       "      <td>0</td>\n",
       "      <td>0.00</td>\n",
       "      <td>52.56</td>\n",
       "      <td>0.00</td>\n",
       "      <td>Marketing &amp; Finance</td>\n",
       "      <td>50</td>\n",
       "      <td>73</td>\n",
       "      <td>50</td>\n",
       "    </tr>\n",
       "  </tbody>\n",
       "</table>\n",
       "<p>5 rows × 23 columns</p>\n",
       "</div>"
      ],
      "text/plain": [
       "   ID Gender  Gender-B  Percent_SSC Board_SSC  Board_CBSE  Board_ICSE  \\\n",
       "0   3      M         0         54.0      CBSE           1           0   \n",
       "1   6      M         0         54.0      ICSE           0           1   \n",
       "2   7      M         0         52.5    Others           0           0   \n",
       "3   9      M         0         56.0      CBSE           1           0   \n",
       "4  11      M         0         53.0    Others           0           0   \n",
       "\n",
       "   Percent_HSC Board_HSC Stream_HSC    ...      Experience_Yrs Entrance_Test  \\\n",
       "0         67.0      CBSE   Commerce    ...                   0           MAT   \n",
       "1         58.0    Others    Science    ...                   0           MAT   \n",
       "2         53.4    Others   Commerce    ...                   1           NaN   \n",
       "3         47.0      CBSE    Science    ...                   0           MAT   \n",
       "4         55.0    Others   Commerce    ...                   0           NaN   \n",
       "\n",
       "   S-TEST  Percentile_ET Percent_MBA  S-TEST_SCORE   Specialization_MBA  \\\n",
       "0       1          67.00       56.49         67.00  Marketing & Finance   \n",
       "1       1          85.00       55.14         85.00       Marketing & HR   \n",
       "2       0           0.00       72.00          0.00  Marketing & Finance   \n",
       "3       1          46.92       62.40         46.92  Marketing & Finance   \n",
       "4       0           0.00       52.56          0.00  Marketing & Finance   \n",
       "\n",
       "   Marks_Communication  Marks_Projectwork Marks_BOCA  \n",
       "0                   53                 71         74  \n",
       "1                   50                 57         55  \n",
       "2                   73                 79         55  \n",
       "3                   60                 66         56  \n",
       "4                   50                 73         50  \n",
       "\n",
       "[5 rows x 23 columns]"
      ]
     },
     "execution_count": 29,
     "metadata": {},
     "output_type": "execute_result"
    }
   ],
   "source": [
    "# Load test data and get a brief overview\n",
    "\n",
    "test_data = pd.read_csv('Data/test.csv')\n",
    "test_data.head()"
   ]
  },
  {
   "cell_type": "code",
   "execution_count": 30,
   "metadata": {
    "collapsed": false
   },
   "outputs": [
    {
     "data": {
      "text/plain": [
       "ID                     False\n",
       "Gender                 False\n",
       "Gender-B               False\n",
       "Percent_SSC            False\n",
       "Board_SSC              False\n",
       "Board_CBSE             False\n",
       "Board_ICSE             False\n",
       "Percent_HSC            False\n",
       "Board_HSC              False\n",
       "Stream_HSC             False\n",
       "Percent_Degree         False\n",
       "Course_Degree          False\n",
       "Degree_Engg            False\n",
       "Experience_Yrs         False\n",
       "Entrance_Test           True\n",
       "S-TEST                 False\n",
       "Percentile_ET          False\n",
       "Percent_MBA            False\n",
       "S-TEST_SCORE           False\n",
       "Specialization_MBA     False\n",
       "Marks_Communication    False\n",
       "Marks_Projectwork      False\n",
       "Marks_BOCA             False\n",
       "dtype: bool"
      ]
     },
     "execution_count": 30,
     "metadata": {},
     "output_type": "execute_result"
    }
   ],
   "source": [
    "# Check for missing values\n",
    "test_data.isnull().any()"
   ]
  },
  {
   "cell_type": "code",
   "execution_count": 31,
   "metadata": {
    "collapsed": false
   },
   "outputs": [
    {
     "data": {
      "text/plain": [
       "MAT      107\n",
       "K-MAT     10\n",
       "CAT        8\n",
       "PGCET      6\n",
       "GCET       1\n",
       "G-SAT      1\n",
       "Name: Entrance_Test, dtype: int64"
      ]
     },
     "execution_count": 31,
     "metadata": {},
     "output_type": "execute_result"
    }
   ],
   "source": [
    "# See the different categories in Entrance_Test and their frequencies\n",
    "test_data['Entrance_Test'].value_counts()"
   ]
  },
  {
   "cell_type": "code",
   "execution_count": 32,
   "metadata": {
    "collapsed": true
   },
   "outputs": [],
   "source": [
    "# Fill null values of Entrance_Test with MAT, since majority lies in that category\n",
    "test_data['Entrance_Test'] = test_data['Entrance_Test'].fillna(value='MAT')"
   ]
  },
  {
   "cell_type": "code",
   "execution_count": 33,
   "metadata": {
    "collapsed": true
   },
   "outputs": [],
   "source": [
    "# Convert categorical variables into (dummy) numeric variables\n",
    "\n",
    "test_hsc_boards = pd.get_dummies(test_data['Board_HSC'])\n",
    "test_streams = pd.get_dummies(test_data['Stream_HSC'], prefix='stream_')\n",
    "test_courses = pd.get_dummies(test_data['Course_Degree'], prefix='course_')\n",
    "test_et = pd.get_dummies(test_data['Entrance_Test'])\n",
    "test_specializations = pd.get_dummies(test_data['Specialization_MBA'])"
   ]
  },
  {
   "cell_type": "code",
   "execution_count": 34,
   "metadata": {
    "collapsed": true
   },
   "outputs": [],
   "source": [
    "# Set the features and target variables to those obtained by RandomOverSampling\n",
    "\n",
    "train_features_temp = train_os_features\n",
    "target_temp = train_os_target['Placement']"
   ]
  },
  {
   "cell_type": "code",
   "execution_count": 35,
   "metadata": {
    "collapsed": false
   },
   "outputs": [],
   "source": [
    "# Drop the categorical columns and merge the numeric ones\n",
    "\n",
    "test_features = test_data.drop(['ID', 'Gender', 'Board_SSC', 'Board_HSC', 'Stream_HSC', 'Course_Degree', 'Entrance_Test', 'Percentile_ET', 'Degree_Engg', 'Specialization_MBA'], axis=1)\n",
    "\n",
    "test_features = pd.concat([test_features, test_hsc_boards, test_streams, test_courses, test_et, test_specializations], axis=1)"
   ]
  },
  {
   "cell_type": "code",
   "execution_count": 36,
   "metadata": {
    "collapsed": false
   },
   "outputs": [
    {
     "data": {
      "text/html": [
       "<div>\n",
       "<table border=\"1\" class=\"dataframe\">\n",
       "  <thead>\n",
       "    <tr style=\"text-align: right;\">\n",
       "      <th></th>\n",
       "      <th>Gender-B</th>\n",
       "      <th>Percent_SSC</th>\n",
       "      <th>Board_CBSE</th>\n",
       "      <th>Board_ICSE</th>\n",
       "      <th>Percent_HSC</th>\n",
       "      <th>Percent_Degree</th>\n",
       "      <th>Experience_Yrs</th>\n",
       "      <th>S-TEST</th>\n",
       "      <th>Percent_MBA</th>\n",
       "      <th>S-TEST_SCORE</th>\n",
       "      <th>...</th>\n",
       "      <th>course__Science</th>\n",
       "      <th>CAT</th>\n",
       "      <th>G-SAT</th>\n",
       "      <th>GCET</th>\n",
       "      <th>K-MAT</th>\n",
       "      <th>MAT</th>\n",
       "      <th>PGCET</th>\n",
       "      <th>Marketing &amp; Finance</th>\n",
       "      <th>Marketing &amp; HR</th>\n",
       "      <th>Marketing &amp; IB</th>\n",
       "    </tr>\n",
       "  </thead>\n",
       "  <tbody>\n",
       "    <tr>\n",
       "      <th>0</th>\n",
       "      <td>0</td>\n",
       "      <td>54.0</td>\n",
       "      <td>1</td>\n",
       "      <td>0</td>\n",
       "      <td>67.0</td>\n",
       "      <td>61.00</td>\n",
       "      <td>0</td>\n",
       "      <td>1</td>\n",
       "      <td>56.49</td>\n",
       "      <td>67.00</td>\n",
       "      <td>...</td>\n",
       "      <td>0.0</td>\n",
       "      <td>0.0</td>\n",
       "      <td>0.0</td>\n",
       "      <td>0.0</td>\n",
       "      <td>0.0</td>\n",
       "      <td>1.0</td>\n",
       "      <td>0.0</td>\n",
       "      <td>1.0</td>\n",
       "      <td>0.0</td>\n",
       "      <td>0.0</td>\n",
       "    </tr>\n",
       "    <tr>\n",
       "      <th>1</th>\n",
       "      <td>0</td>\n",
       "      <td>54.0</td>\n",
       "      <td>0</td>\n",
       "      <td>1</td>\n",
       "      <td>58.0</td>\n",
       "      <td>62.00</td>\n",
       "      <td>0</td>\n",
       "      <td>1</td>\n",
       "      <td>55.14</td>\n",
       "      <td>85.00</td>\n",
       "      <td>...</td>\n",
       "      <td>0.0</td>\n",
       "      <td>0.0</td>\n",
       "      <td>0.0</td>\n",
       "      <td>0.0</td>\n",
       "      <td>0.0</td>\n",
       "      <td>1.0</td>\n",
       "      <td>0.0</td>\n",
       "      <td>0.0</td>\n",
       "      <td>1.0</td>\n",
       "      <td>0.0</td>\n",
       "    </tr>\n",
       "    <tr>\n",
       "      <th>2</th>\n",
       "      <td>0</td>\n",
       "      <td>52.5</td>\n",
       "      <td>0</td>\n",
       "      <td>0</td>\n",
       "      <td>53.4</td>\n",
       "      <td>55.21</td>\n",
       "      <td>1</td>\n",
       "      <td>0</td>\n",
       "      <td>72.00</td>\n",
       "      <td>0.00</td>\n",
       "      <td>...</td>\n",
       "      <td>0.0</td>\n",
       "      <td>0.0</td>\n",
       "      <td>0.0</td>\n",
       "      <td>0.0</td>\n",
       "      <td>0.0</td>\n",
       "      <td>1.0</td>\n",
       "      <td>0.0</td>\n",
       "      <td>1.0</td>\n",
       "      <td>0.0</td>\n",
       "      <td>0.0</td>\n",
       "    </tr>\n",
       "    <tr>\n",
       "      <th>3</th>\n",
       "      <td>0</td>\n",
       "      <td>56.0</td>\n",
       "      <td>1</td>\n",
       "      <td>0</td>\n",
       "      <td>47.0</td>\n",
       "      <td>61.17</td>\n",
       "      <td>0</td>\n",
       "      <td>1</td>\n",
       "      <td>62.40</td>\n",
       "      <td>46.92</td>\n",
       "      <td>...</td>\n",
       "      <td>0.0</td>\n",
       "      <td>0.0</td>\n",
       "      <td>0.0</td>\n",
       "      <td>0.0</td>\n",
       "      <td>0.0</td>\n",
       "      <td>1.0</td>\n",
       "      <td>0.0</td>\n",
       "      <td>1.0</td>\n",
       "      <td>0.0</td>\n",
       "      <td>0.0</td>\n",
       "    </tr>\n",
       "    <tr>\n",
       "      <th>4</th>\n",
       "      <td>0</td>\n",
       "      <td>53.0</td>\n",
       "      <td>0</td>\n",
       "      <td>0</td>\n",
       "      <td>55.0</td>\n",
       "      <td>42.00</td>\n",
       "      <td>0</td>\n",
       "      <td>0</td>\n",
       "      <td>52.56</td>\n",
       "      <td>0.00</td>\n",
       "      <td>...</td>\n",
       "      <td>0.0</td>\n",
       "      <td>0.0</td>\n",
       "      <td>0.0</td>\n",
       "      <td>0.0</td>\n",
       "      <td>0.0</td>\n",
       "      <td>1.0</td>\n",
       "      <td>0.0</td>\n",
       "      <td>1.0</td>\n",
       "      <td>0.0</td>\n",
       "      <td>0.0</td>\n",
       "    </tr>\n",
       "  </tbody>\n",
       "</table>\n",
       "<p>5 rows × 35 columns</p>\n",
       "</div>"
      ],
      "text/plain": [
       "   Gender-B  Percent_SSC  Board_CBSE  Board_ICSE  Percent_HSC  Percent_Degree  \\\n",
       "0         0         54.0           1           0         67.0           61.00   \n",
       "1         0         54.0           0           1         58.0           62.00   \n",
       "2         0         52.5           0           0         53.4           55.21   \n",
       "3         0         56.0           1           0         47.0           61.17   \n",
       "4         0         53.0           0           0         55.0           42.00   \n",
       "\n",
       "   Experience_Yrs  S-TEST  Percent_MBA  S-TEST_SCORE       ...        \\\n",
       "0               0       1        56.49         67.00       ...         \n",
       "1               0       1        55.14         85.00       ...         \n",
       "2               1       0        72.00          0.00       ...         \n",
       "3               0       1        62.40         46.92       ...         \n",
       "4               0       0        52.56          0.00       ...         \n",
       "\n",
       "   course__Science  CAT  G-SAT  GCET  K-MAT  MAT  PGCET  Marketing & Finance  \\\n",
       "0              0.0  0.0    0.0   0.0    0.0  1.0    0.0                  1.0   \n",
       "1              0.0  0.0    0.0   0.0    0.0  1.0    0.0                  0.0   \n",
       "2              0.0  0.0    0.0   0.0    0.0  1.0    0.0                  1.0   \n",
       "3              0.0  0.0    0.0   0.0    0.0  1.0    0.0                  1.0   \n",
       "4              0.0  0.0    0.0   0.0    0.0  1.0    0.0                  1.0   \n",
       "\n",
       "   Marketing & HR  Marketing & IB  \n",
       "0             0.0             0.0  \n",
       "1             1.0             0.0  \n",
       "2             0.0             0.0  \n",
       "3             0.0             0.0  \n",
       "4             0.0             0.0  \n",
       "\n",
       "[5 rows x 35 columns]"
      ]
     },
     "execution_count": 36,
     "metadata": {},
     "output_type": "execute_result"
    }
   ],
   "source": [
    "# Brief overview of the new data\n",
    "test_features.head()"
   ]
  },
  {
   "cell_type": "code",
   "execution_count": 37,
   "metadata": {
    "collapsed": false
   },
   "outputs": [
    {
     "name": "stdout",
     "output_type": "stream",
     "text": [
      "['G-MAT', 'XAT']\n"
     ]
    }
   ],
   "source": [
    "# See if there are any variables in train_features that are not present in test_features\n",
    "\n",
    "not_test = []\n",
    "\n",
    "for col in train_features_temp.columns:\n",
    "    if col not in test_features.columns:\n",
    "        not_test.append(col)\n",
    "\n",
    "print not_test"
   ]
  },
  {
   "cell_type": "code",
   "execution_count": 38,
   "metadata": {
    "collapsed": false
   },
   "outputs": [
    {
     "name": "stdout",
     "output_type": "stream",
     "text": [
      "['G-SAT']\n"
     ]
    }
   ],
   "source": [
    "# See if there are any variables in test_features that are not present in train_features\n",
    "\n",
    "not_train = []\n",
    "\n",
    "for col in test_features.columns:\n",
    "    if col not in train_features_temp.columns:\n",
    "        not_train.append(col)\n",
    "\n",
    "print not_train"
   ]
  },
  {
   "cell_type": "code",
   "execution_count": 39,
   "metadata": {
    "collapsed": false
   },
   "outputs": [
    {
     "data": {
      "text/plain": [
       "True"
      ]
     },
     "execution_count": 39,
     "metadata": {},
     "output_type": "execute_result"
    }
   ],
   "source": [
    "# Check for mismatched columns after removing the above columns\n",
    "(train_features_temp.drop(not_test, axis=1).columns == test_features.drop(not_train, axis=1).columns).all()"
   ]
  },
  {
   "cell_type": "code",
   "execution_count": 40,
   "metadata": {
    "collapsed": false
   },
   "outputs": [],
   "source": [
    "# Imports for RandomForestClassifier, Cross Validation and Accuracy Metrics\n",
    "\n",
    "from sklearn.ensemble import RandomForestClassifier\n",
    "from sklearn.cross_validation import cross_val_score, train_test_split, StratifiedShuffleSplit, StratifiedKFold\n",
    "from sklearn.metrics import accuracy_score, confusion_matrix"
   ]
  },
  {
   "cell_type": "code",
   "execution_count": 41,
   "metadata": {
    "collapsed": false
   },
   "outputs": [
    {
     "name": "stdout",
     "output_type": "stream",
     "text": [
      "Max Score = 0.949522102748\n",
      "Optimal number of trees = 250\n"
     ]
    }
   ],
   "source": [
    "# Get best cross_val_score for RF by optimising number of trees\n",
    "\n",
    "max_score = 0\n",
    "optimal_n = 100\n",
    "\n",
    "for n in range(100, 350, 50):\n",
    "    rf1 = RandomForestClassifier(n_estimators=n, random_state=3)\n",
    "    curr_score = np.mean(cross_val_score(rf1, train_features_temp, target_temp))\n",
    "    if curr_score > max_score:\n",
    "        max_score = curr_score\n",
    "        optimal_n = n\n",
    "\n",
    "print \"Max Score = \" + str(max_score)\n",
    "print \"Optimal number of trees = \" + str(optimal_n)"
   ]
  },
  {
   "cell_type": "code",
   "execution_count": 42,
   "metadata": {
    "collapsed": false
   },
   "outputs": [
    {
     "name": "stdout",
     "output_type": "stream",
     "text": [
      "Max Score = 0.976315789474\n",
      "Optimal number of trees = 200\n"
     ]
    }
   ],
   "source": [
    "# Get best cross_val_score for RF by optimising number of trees with StratifiedShuffleSplit\n",
    "\n",
    "max_score = 0\n",
    "optimal_n = 100\n",
    "\n",
    "for n in range(100, 350, 50):\n",
    "    rf2 = RandomForestClassifier(n_estimators=n, random_state=3)\n",
    "    cv1 = StratifiedShuffleSplit(target_temp, n_iter=10, random_state=3)\n",
    "    curr_score = np.mean(cross_val_score(rf2, train_features_temp, target_temp, cv=cv1))\n",
    "    if curr_score > max_score:\n",
    "        max_score = curr_score\n",
    "        optimal_n = n\n",
    "\n",
    "print \"Max Score = \" + str(max_score)\n",
    "print \"Optimal number of trees = \" + str(optimal_n)"
   ]
  },
  {
   "cell_type": "code",
   "execution_count": 43,
   "metadata": {
    "collapsed": false
   },
   "outputs": [
    {
     "name": "stdout",
     "output_type": "stream",
     "text": [
      "Max Score = 0.979273504274\n",
      "Optimal number of trees = 150\n",
      "Optimal folds = 15\n"
     ]
    }
   ],
   "source": [
    "# Get best cross_val_score for RF by optimising number of trees with StratifiedKFold\n",
    "\n",
    "max_score = 0\n",
    "optimal_n = 100\n",
    "\n",
    "for n in range(100, 350, 50):\n",
    "    rf3 = RandomForestClassifier(n_estimators=n)\n",
    "    for folds in range(5, 16, 1):\n",
    "        cv2 = StratifiedKFold(target_temp, n_folds=folds, random_state=3)\n",
    "        curr_score = np.mean(cross_val_score(rf3, train_features_temp, target_temp, cv=cv2))\n",
    "        if curr_score > max_score:\n",
    "            max_score = curr_score\n",
    "            optimal_n = n\n",
    "\n",
    "print \"Max Score = \" + str(max_score)\n",
    "print \"Optimal number of trees = \" + str(optimal_n)\n",
    "print \"Optimal folds = \" + str(folds)"
   ]
  },
  {
   "cell_type": "code",
   "execution_count": 44,
   "metadata": {
    "collapsed": false
   },
   "outputs": [
    {
     "name": "stdout",
     "output_type": "stream",
     "text": [
      "Max Score = 1.0\n",
      "Optimal number of trees = 200\n",
      "Optimal State = 12\n"
     ]
    }
   ],
   "source": [
    "# Get best fitted RF model without stratification by optimising number of trees\n",
    "\n",
    "max_score = 0\n",
    "optimal_n = 100\n",
    "optimal_s = 1\n",
    "\n",
    "\n",
    "scores = []\n",
    "states = []\n",
    "trees = []\n",
    "\n",
    "for n in range(100, 350, 50):\n",
    "    for s in range(51):\n",
    "        rf5 = RandomForestClassifier(n_estimators=n, random_state=s)\n",
    "        x_train, x_test, y_train, y_test = train_test_split(train_features_temp.drop(not_test, axis=1), target_temp)\n",
    "        rf5.fit(x_train, y_train)\n",
    "        predicted = rf5.predict(x_test)\n",
    "        curr_score = accuracy_score(y_test, predicted)\n",
    "        scores.append(curr_score)\n",
    "        states.append(s)\n",
    "        trees.append(n)\n",
    "        if curr_score > max_score:\n",
    "            max_score = curr_score\n",
    "            optimal_n = n\n",
    "            optimal_s = s\n",
    "\n",
    "print \"Max Score = \" + str(max_score)\n",
    "print \"Optimal number of trees = \" + str(optimal_n)\n",
    "print \"Optimal State = \" + str(optimal_s)"
   ]
  },
  {
   "cell_type": "code",
   "execution_count": 45,
   "metadata": {
    "collapsed": false
   },
   "outputs": [
    {
     "name": "stdout",
     "output_type": "stream",
     "text": [
      "n=200 State=12\n",
      "n=200 State=45\n",
      "n=250 State=28\n",
      "n=250 State=33\n"
     ]
    }
   ],
   "source": [
    "for i, score in enumerate(scores):\n",
    "    if score == 1:\n",
    "        print \"n=\"+str(trees[i]), \"State=\"+str(states[i])"
   ]
  },
  {
   "cell_type": "code",
   "execution_count": 46,
   "metadata": {
    "collapsed": false
   },
   "outputs": [
    {
     "data": {
      "text/html": [
       "<div>\n",
       "<table border=\"1\" class=\"dataframe\">\n",
       "  <thead>\n",
       "    <tr style=\"text-align: right;\">\n",
       "      <th></th>\n",
       "      <th>ID</th>\n",
       "      <th>Placement</th>\n",
       "    </tr>\n",
       "  </thead>\n",
       "  <tbody>\n",
       "    <tr>\n",
       "      <th>3</th>\n",
       "      <td>9</td>\n",
       "      <td>0</td>\n",
       "    </tr>\n",
       "    <tr>\n",
       "      <th>10</th>\n",
       "      <td>29</td>\n",
       "      <td>0</td>\n",
       "    </tr>\n",
       "    <tr>\n",
       "      <th>24</th>\n",
       "      <td>73</td>\n",
       "      <td>0</td>\n",
       "    </tr>\n",
       "    <tr>\n",
       "      <th>25</th>\n",
       "      <td>74</td>\n",
       "      <td>0</td>\n",
       "    </tr>\n",
       "    <tr>\n",
       "      <th>30</th>\n",
       "      <td>91</td>\n",
       "      <td>0</td>\n",
       "    </tr>\n",
       "    <tr>\n",
       "      <th>67</th>\n",
       "      <td>179</td>\n",
       "      <td>0</td>\n",
       "    </tr>\n",
       "    <tr>\n",
       "      <th>147</th>\n",
       "      <td>371</td>\n",
       "      <td>0</td>\n",
       "    </tr>\n",
       "  </tbody>\n",
       "</table>\n",
       "</div>"
      ],
      "text/plain": [
       "      ID  Placement\n",
       "3      9          0\n",
       "10    29          0\n",
       "24    73          0\n",
       "25    74          0\n",
       "30    91          0\n",
       "67   179          0\n",
       "147  371          0"
      ]
     },
     "execution_count": 46,
     "metadata": {},
     "output_type": "execute_result"
    }
   ],
   "source": [
    "# model = RandomForestClassifier(n_estimators=250, random_state=32)\n",
    "# model.fit(train_features_temp.drop(not_test, axis=1), target_temp)\n",
    "model_predicted = DataFrame(rf5.predict(test_features.drop(not_train, axis=1)), columns=['Placement'])\n",
    "x = pd.concat([DataFrame(test_data['ID']), model_predicted], axis=1)\n",
    "x.to_csv('solution_rf5.csv', index=False)\n",
    "x[x['Placement'] == 0]"
   ]
  },
  {
   "cell_type": "code",
   "execution_count": 47,
   "metadata": {
    "collapsed": false
   },
   "outputs": [
    {
     "name": "stdout",
     "output_type": "stream",
     "text": [
      "[[49  4]\n",
      " [ 1 40]]\n"
     ]
    }
   ],
   "source": [
    "# Print confusion matrix for above model\n",
    "print confusion_matrix(y_test, predicted)"
   ]
  },
  {
   "cell_type": "code",
   "execution_count": 48,
   "metadata": {
    "collapsed": false
   },
   "outputs": [
    {
     "name": "stdout",
     "output_type": "stream",
     "text": [
      "Max Score = 1.0\n",
      "Optimal number of trees = 150\n",
      "Optimal State = 42\n"
     ]
    }
   ],
   "source": [
    "# Get best fitted RF model with stratification by optimising number of trees\n",
    "\n",
    "max_score = 0\n",
    "optimal_n = 100\n",
    "optimal_state = 1\n",
    "\n",
    "scores = []\n",
    "states = []\n",
    "trees = []\n",
    "\n",
    "for n in range(100, 350, 50):\n",
    "    for s in range(51):\n",
    "        rf6 = RandomForestClassifier(n_estimators=n, random_state=s)\n",
    "        x_train, x_test, y_train, y_test = train_test_split(train_features_temp.drop(not_test, axis=1), target_temp, stratify=target_temp)\n",
    "        rf6.fit(x_train, y_train)\n",
    "        predicted = rf6.predict(x_test)\n",
    "        curr_score = accuracy_score(y_test, predicted)\n",
    "        scores.append(curr_score)\n",
    "        states.append(s)\n",
    "        trees.append(n)\n",
    "        if curr_score > max_score:\n",
    "            max_score = curr_score\n",
    "            optimal_n = n\n",
    "            optimal_state = s\n",
    "\n",
    "print \"Max Score = \" + str(max_score)\n",
    "print \"Optimal number of trees = \" + str(optimal_n)\n",
    "print \"Optimal State = \" + str(optimal_state)"
   ]
  },
  {
   "cell_type": "code",
   "execution_count": 49,
   "metadata": {
    "collapsed": false
   },
   "outputs": [
    {
     "data": {
      "text/html": [
       "<div>\n",
       "<table border=\"1\" class=\"dataframe\">\n",
       "  <thead>\n",
       "    <tr style=\"text-align: right;\">\n",
       "      <th></th>\n",
       "      <th>ID</th>\n",
       "      <th>Placement</th>\n",
       "    </tr>\n",
       "  </thead>\n",
       "  <tbody>\n",
       "    <tr>\n",
       "      <th>3</th>\n",
       "      <td>9</td>\n",
       "      <td>0</td>\n",
       "    </tr>\n",
       "    <tr>\n",
       "      <th>10</th>\n",
       "      <td>29</td>\n",
       "      <td>0</td>\n",
       "    </tr>\n",
       "    <tr>\n",
       "      <th>24</th>\n",
       "      <td>73</td>\n",
       "      <td>0</td>\n",
       "    </tr>\n",
       "    <tr>\n",
       "      <th>25</th>\n",
       "      <td>74</td>\n",
       "      <td>0</td>\n",
       "    </tr>\n",
       "    <tr>\n",
       "      <th>40</th>\n",
       "      <td>119</td>\n",
       "      <td>0</td>\n",
       "    </tr>\n",
       "    <tr>\n",
       "      <th>44</th>\n",
       "      <td>129</td>\n",
       "      <td>0</td>\n",
       "    </tr>\n",
       "    <tr>\n",
       "      <th>48</th>\n",
       "      <td>139</td>\n",
       "      <td>0</td>\n",
       "    </tr>\n",
       "    <tr>\n",
       "      <th>83</th>\n",
       "      <td>216</td>\n",
       "      <td>0</td>\n",
       "    </tr>\n",
       "    <tr>\n",
       "      <th>139</th>\n",
       "      <td>355</td>\n",
       "      <td>0</td>\n",
       "    </tr>\n",
       "  </tbody>\n",
       "</table>\n",
       "</div>"
      ],
      "text/plain": [
       "      ID  Placement\n",
       "3      9          0\n",
       "10    29          0\n",
       "24    73          0\n",
       "25    74          0\n",
       "40   119          0\n",
       "44   129          0\n",
       "48   139          0\n",
       "83   216          0\n",
       "139  355          0"
      ]
     },
     "execution_count": 49,
     "metadata": {},
     "output_type": "execute_result"
    }
   ],
   "source": [
    "# model = RandomForestClassifier(n_estimators=250, random_state=17)\n",
    "# model.fit(train_features_temp.drop(not_test, axis=1), target_temp)\n",
    "model_predicted = DataFrame(rf6.predict(test_features.drop(not_train, axis=1)), columns=['Placement'])\n",
    "x = pd.concat([DataFrame(test_data['ID']), model_predicted], axis=1)\n",
    "x.to_csv('solution_rf6.csv', index=False)\n",
    "x[x['Placement'] == 0]"
   ]
  },
  {
   "cell_type": "code",
   "execution_count": 50,
   "metadata": {
    "collapsed": false
   },
   "outputs": [
    {
     "name": "stdout",
     "output_type": "stream",
     "text": [
      "Unstratified:\n",
      "[3.6071864643293223e-05, 0.0017190686330790439, 0.0017704123154942796, 0.003550558184372994, 0.0036199578779206802, 0.0042890429316037263, 0.0046915349873916041, 0.0049783223723673517, 0.005358165257863581, 0.0079512978150939224, 0.0095547214601993773, 0.009862153178038513, 0.010331862968313137, 0.011275295272673154, 0.011603452875788985, 0.011972568022905826, 0.012312459482575713, 0.012638411366181074, 0.013040956873789608, 0.01328224715021661, 0.01362440043366921, 0.014009903476198016, 0.014898553447754032, 0.020912346334350948, 0.022495957113524714, 0.030906868048875834, 0.060903019020576356, 0.068969442809323711, 0.070965482287057305, 0.09773031862106428, 0.10310974342158453, 0.10877725064203748, 0.10927491941136697, 0.10958323404210416]\n",
      "\n",
      "Stratified:\n",
      "[0.0, 0.0013837716025460287, 0.0020292098394043508, 0.003116879234028984, 0.0038997988867557343, 0.0040489787948140192, 0.0044073078405803727, 0.0046178737794861863, 0.0046770474959960048, 0.0069733907550203287, 0.0077311578307412325, 0.0094200528254447299, 0.01000461747344591, 0.010406437250787525, 0.010626427237658546, 0.011046989314975907, 0.012124812950137079, 0.012223240698921924, 0.013006510820606009, 0.013623742482648821, 0.013668959936188123, 0.0138213910063382, 0.016117235038359167, 0.020577581547311666, 0.023345755744287457, 0.039446033164032945, 0.059197845873724807, 0.068657559208718799, 0.07173509752504488, 0.083962654860947478, 0.10459648473489737, 0.1056550284381115, 0.10938751101103465, 0.12446261479700345]\n"
     ]
    }
   ],
   "source": [
    "# Print feature importances for above two fitted RF models\n",
    "print \"Unstratified:\\n\", sorted(rf5.feature_importances_)\n",
    "print\n",
    "print \"Stratified:\\n\", sorted(rf6.feature_importances_)"
   ]
  },
  {
   "cell_type": "code",
   "execution_count": 51,
   "metadata": {
    "collapsed": false
   },
   "outputs": [
    {
     "name": "stdout",
     "output_type": "stream",
     "text": [
      "n=150 State=42\n",
      "n=300 State=10\n"
     ]
    }
   ],
   "source": [
    "for i, score in enumerate(scores):\n",
    "    if score == 1:\n",
    "        print \"n=\"+str(trees[i]), \"State=\"+str(states[i])"
   ]
  },
  {
   "cell_type": "code",
   "execution_count": 52,
   "metadata": {
    "collapsed": false
   },
   "outputs": [
    {
     "name": "stdout",
     "output_type": "stream",
     "text": [
      "[[47  0]\n",
      " [ 5 42]]\n"
     ]
    }
   ],
   "source": [
    "# Print confusion matrix for above model\n",
    "print confusion_matrix(y_test, predicted)"
   ]
  },
  {
   "cell_type": "code",
   "execution_count": 53,
   "metadata": {
    "collapsed": false
   },
   "outputs": [],
   "source": [
    "# Print the column names whose importance in the fitted model without stratification is zero\n",
    "for index, value in enumerate(rf5.feature_importances_):\n",
    "    if not value:\n",
    "        print train_features_temp.columns[index]"
   ]
  },
  {
   "cell_type": "code",
   "execution_count": 54,
   "metadata": {
    "collapsed": false
   },
   "outputs": [
    {
     "name": "stdout",
     "output_type": "stream",
     "text": [
      "G-MAT\n"
     ]
    }
   ],
   "source": [
    "# Print the column names whose importance in the fitted model with stratification is zero\n",
    "for index, value in enumerate(rf6.feature_importances_):\n",
    "    if not value:\n",
    "        print train_features_temp.columns[index]"
   ]
  },
  {
   "cell_type": "code",
   "execution_count": 55,
   "metadata": {
    "collapsed": false
   },
   "outputs": [],
   "source": [
    "# Import SVC\n",
    "from sklearn.svm import SVC"
   ]
  },
  {
   "cell_type": "code",
   "execution_count": 56,
   "metadata": {
    "collapsed": false
   },
   "outputs": [
    {
     "name": "stdout",
     "output_type": "stream",
     "text": [
      "Score = 0.968085106383\n"
     ]
    },
    {
     "data": {
      "text/html": [
       "<div>\n",
       "<table border=\"1\" class=\"dataframe\">\n",
       "  <thead>\n",
       "    <tr style=\"text-align: right;\">\n",
       "      <th></th>\n",
       "      <th>ID</th>\n",
       "      <th>Placement</th>\n",
       "    </tr>\n",
       "  </thead>\n",
       "  <tbody>\n",
       "    <tr>\n",
       "      <th>13</th>\n",
       "      <td>36</td>\n",
       "      <td>0</td>\n",
       "    </tr>\n",
       "  </tbody>\n",
       "</table>\n",
       "</div>"
      ],
      "text/plain": [
       "    ID  Placement\n",
       "13  36          0"
      ]
     },
     "execution_count": 56,
     "metadata": {},
     "output_type": "execute_result"
    }
   ],
   "source": [
    "# Generate an SVC fitted model without stratification\n",
    "\n",
    "svc1 = SVC()\n",
    "\n",
    "x_train, x_test, y_train, y_test = train_test_split(train_features_temp, target_temp, random_state=6)\n",
    "svc1.fit(x_train, y_train)\n",
    "predicted = svc1.predict(x_test)\n",
    "score = accuracy_score(y_test, predicted)\n",
    "\n",
    "print \"Score = \" + str(score)\n",
    "\n",
    "model = SVC()\n",
    "model.fit(train_features_temp.drop(not_test, axis=1), target_temp)\n",
    "model_predicted = DataFrame(model.predict(test_features.drop(not_train, axis=1)), columns=['Placement'])\n",
    "x = pd.concat([DataFrame(test_data['ID']), model_predicted], axis=1)\n",
    "x[x['Placement'] == 0]\n",
    "# x.to_csv('solution_svc1.csv', index=False)"
   ]
  },
  {
   "cell_type": "code",
   "execution_count": 57,
   "metadata": {
    "collapsed": false
   },
   "outputs": [
    {
     "name": "stdout",
     "output_type": "stream",
     "text": [
      "[[46  3]\n",
      " [ 0 45]]\n"
     ]
    }
   ],
   "source": [
    "# Print confusion matrix for above model\n",
    "print confusion_matrix(y_test, predicted)"
   ]
  },
  {
   "cell_type": "code",
   "execution_count": 58,
   "metadata": {
    "collapsed": false
   },
   "outputs": [
    {
     "name": "stdout",
     "output_type": "stream",
     "text": [
      "Score = 0.957446808511\n"
     ]
    }
   ],
   "source": [
    "# Generate an SVC fitted model with stratification\n",
    "\n",
    "svc2 = SVC()\n",
    "\n",
    "x_train, x_test, y_train, y_test = train_test_split(train_features_temp, target_temp, stratify=target_temp)\n",
    "svc2.fit(x_train, y_train)\n",
    "predicted = svc2.predict(x_test)\n",
    "score = accuracy_score(y_test, predicted)\n",
    "\n",
    "print \"Score = \" + str(score)"
   ]
  },
  {
   "cell_type": "code",
   "execution_count": 59,
   "metadata": {
    "collapsed": false
   },
   "outputs": [
    {
     "name": "stdout",
     "output_type": "stream",
     "text": [
      "[[43  4]\n",
      " [ 0 47]]\n"
     ]
    }
   ],
   "source": [
    "# Print confusion matrix for above model\n",
    "print confusion_matrix(y_test, predicted)"
   ]
  },
  {
   "cell_type": "code",
   "execution_count": 60,
   "metadata": {
    "collapsed": false
   },
   "outputs": [],
   "source": [
    "# Import XGBClassifier\n",
    "from xgboost.sklearn import XGBClassifier"
   ]
  },
  {
   "cell_type": "code",
   "execution_count": 61,
   "metadata": {
    "collapsed": false
   },
   "outputs": [
    {
     "name": "stdout",
     "output_type": "stream",
     "text": [
      "Max Score = 0.925531914894\n",
      "Optimal number of trees = 300\n"
     ]
    }
   ],
   "source": [
    "# Get best accuracy score for XGB model by optimising number of estimators with stratification\n",
    "\n",
    "max_score = 0\n",
    "optimal_n = 100\n",
    "\n",
    "for n in range(100, 650, 50):\n",
    "    xgb = XGBClassifier(n_estimators=n)\n",
    "    x_train, x_test, y_train, y_test = train_test_split(train_features_temp, target_temp, stratify=target_temp, random_state=2)\n",
    "    xgb.fit(x_train, y_train)\n",
    "    predicted = xgb.predict(x_test)\n",
    "    curr_score = accuracy_score(y_test, predicted)\n",
    "    if curr_score > max_score:\n",
    "        max_score = curr_score\n",
    "        optimal_n = n\n",
    "\n",
    "print \"Max Score = \" + str(max_score)\n",
    "print \"Optimal number of trees = \" + str(optimal_n)"
   ]
  },
  {
   "cell_type": "code",
   "execution_count": 62,
   "metadata": {
    "collapsed": false
   },
   "outputs": [],
   "source": [
    "# Generate an SVC based model for the test set and get predicted values\n",
    "\n",
    "final_svc = SVC()\n",
    "final_svc.fit(train_features_temp.drop(not_test, axis=1), target_temp)\n",
    "predicted = DataFrame(final_svc.predict(test_features.drop(not_train, axis=1)), columns=['Placement'])"
   ]
  },
  {
   "cell_type": "code",
   "execution_count": 63,
   "metadata": {
    "collapsed": false
   },
   "outputs": [],
   "source": [
    "rf_final1 = RandomForestClassifier(n_estimators=100, random_state=3)\n",
    "rf_final1.fit(train_features_temp.drop(not_test, axis=1), target_temp)\n",
    "predicted = DataFrame(rf_final1.predict(test_features.drop(not_train, axis=1)), columns=['Placement'])"
   ]
  },
  {
   "cell_type": "code",
   "execution_count": 64,
   "metadata": {
    "collapsed": true
   },
   "outputs": [],
   "source": [
    "rf_final2 = RandomForestClassifier(n_estimators=100)\n",
    "cv = StratifiedKFold(target_temp, n_folds=20, random_state=3)\n",
    "curr_score = np.mean(cross_val_score(rf_final2, train_features_temp, target_temp, cv=cv))"
   ]
  },
  {
   "cell_type": "code",
   "execution_count": 65,
   "metadata": {
    "collapsed": true
   },
   "outputs": [],
   "source": [
    "rf5 = RandomForestClassifier(n_estimators=250, random_state=17)\n",
    "rf5.fit(train_features_temp.drop(not_test, axis=1), target_temp)\n",
    "predicted = DataFrame(rf_final1.predict(test_features.drop(not_train, axis=1)), columns=['Placement'])"
   ]
  },
  {
   "cell_type": "code",
   "execution_count": 66,
   "metadata": {
    "collapsed": false,
    "scrolled": false
   },
   "outputs": [
    {
     "data": {
      "text/html": [
       "<div>\n",
       "<table border=\"1\" class=\"dataframe\">\n",
       "  <thead>\n",
       "    <tr style=\"text-align: right;\">\n",
       "      <th></th>\n",
       "      <th>ID</th>\n",
       "      <th>Placement</th>\n",
       "    </tr>\n",
       "  </thead>\n",
       "  <tbody>\n",
       "    <tr>\n",
       "      <th>0</th>\n",
       "      <td>3</td>\n",
       "      <td>1</td>\n",
       "    </tr>\n",
       "    <tr>\n",
       "      <th>1</th>\n",
       "      <td>6</td>\n",
       "      <td>1</td>\n",
       "    </tr>\n",
       "    <tr>\n",
       "      <th>2</th>\n",
       "      <td>7</td>\n",
       "      <td>1</td>\n",
       "    </tr>\n",
       "    <tr>\n",
       "      <th>3</th>\n",
       "      <td>9</td>\n",
       "      <td>0</td>\n",
       "    </tr>\n",
       "    <tr>\n",
       "      <th>4</th>\n",
       "      <td>11</td>\n",
       "      <td>1</td>\n",
       "    </tr>\n",
       "  </tbody>\n",
       "</table>\n",
       "</div>"
      ],
      "text/plain": [
       "   ID  Placement\n",
       "0   3          1\n",
       "1   6          1\n",
       "2   7          1\n",
       "3   9          0\n",
       "4  11          1"
      ]
     },
     "execution_count": 66,
     "metadata": {},
     "output_type": "execute_result"
    }
   ],
   "source": [
    "# Store predicted values in proper table as required\n",
    "\n",
    "solution = pd.concat([DataFrame(test_data['ID']), predicted], axis=1)\n",
    "solution.head()"
   ]
  },
  {
   "cell_type": "code",
   "execution_count": 67,
   "metadata": {
    "collapsed": false,
    "scrolled": false
   },
   "outputs": [
    {
     "data": {
      "text/plain": [
       "1    152\n",
       "0      4\n",
       "Name: Placement, dtype: int64"
      ]
     },
     "execution_count": 67,
     "metadata": {},
     "output_type": "execute_result"
    }
   ],
   "source": [
    "solution['Placement'].value_counts()"
   ]
  },
  {
   "cell_type": "code",
   "execution_count": 68,
   "metadata": {
    "collapsed": false,
    "scrolled": false
   },
   "outputs": [
    {
     "data": {
      "text/html": [
       "<div>\n",
       "<table border=\"1\" class=\"dataframe\">\n",
       "  <thead>\n",
       "    <tr style=\"text-align: right;\">\n",
       "      <th></th>\n",
       "      <th>ID</th>\n",
       "      <th>Placement</th>\n",
       "    </tr>\n",
       "  </thead>\n",
       "  <tbody>\n",
       "    <tr>\n",
       "      <th>3</th>\n",
       "      <td>9</td>\n",
       "      <td>0</td>\n",
       "    </tr>\n",
       "    <tr>\n",
       "      <th>24</th>\n",
       "      <td>73</td>\n",
       "      <td>0</td>\n",
       "    </tr>\n",
       "    <tr>\n",
       "      <th>44</th>\n",
       "      <td>129</td>\n",
       "      <td>0</td>\n",
       "    </tr>\n",
       "    <tr>\n",
       "      <th>48</th>\n",
       "      <td>139</td>\n",
       "      <td>0</td>\n",
       "    </tr>\n",
       "  </tbody>\n",
       "</table>\n",
       "</div>"
      ],
      "text/plain": [
       "     ID  Placement\n",
       "3     9          0\n",
       "24   73          0\n",
       "44  129          0\n",
       "48  139          0"
      ]
     },
     "execution_count": 68,
     "metadata": {},
     "output_type": "execute_result"
    }
   ],
   "source": [
    "solution[solution['Placement'] == 0]"
   ]
  },
  {
   "cell_type": "code",
   "execution_count": 69,
   "metadata": {
    "collapsed": true
   },
   "outputs": [],
   "source": [
    "# Export the results to CSV file\n",
    "solution.to_csv('solution.csv', index=False)"
   ]
  },
  {
   "cell_type": "code",
   "execution_count": null,
   "metadata": {
    "collapsed": true
   },
   "outputs": [],
   "source": []
  }
 ],
 "metadata": {
  "kernelspec": {
   "display_name": "Python 2",
   "language": "python",
   "name": "python2"
  },
  "language_info": {
   "codemirror_mode": {
    "name": "ipython",
    "version": 2
   },
   "file_extension": ".py",
   "mimetype": "text/x-python",
   "name": "python",
   "nbconvert_exporter": "python",
   "pygments_lexer": "ipython2",
   "version": "2.7.6"
  }
 },
 "nbformat": 4,
 "nbformat_minor": 0
}
